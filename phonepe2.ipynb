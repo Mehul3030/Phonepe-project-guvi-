{
 "cells": [
  {
   "cell_type": "code",
   "execution_count": 4,
   "metadata": {},
   "outputs": [],
   "source": [
    "import psycopg2\n",
    "import pandas as pd \n",
    "import plotly.express as px\n",
    "import requests\n",
    "import json"
   ]
  },
  {
   "cell_type": "code",
   "execution_count": 5,
   "metadata": {},
   "outputs": [],
   "source": [
    "#DataFrame Creation \n",
    "\n",
    "#sql connection\n",
    "\n",
    "mydb=psycopg2.connect(host='localhost',\n",
    "                      user='postgres',\n",
    "                      port=5432,\n",
    "                      database='phonepe_data',\n",
    "                      password='1234567890')\n",
    "cursor=mydb.cursor()\n",
    "\n",
    "\n",
    "#aggre_insurance_df\n",
    "\n",
    "cursor.execute('SELECT * FROM aggregated_insurance')\n",
    "mydb.commit()\n",
    "table1=cursor.fetchall()\n",
    "\n",
    "Aggre_insurance = pd.DataFrame(table1, columns=('States','Years', 'Quarter', 'Transaction_type', 'Transaction_count', 'Transaction_amount'))\n",
    "\n",
    "\n",
    "\n",
    "#aggre_transaction_df\n",
    "\n",
    "cursor.execute('SELECT * FROM aggregated_transaction')\n",
    "mydb.commit()\n",
    "table2=cursor.fetchall()\n",
    "\n",
    "Aggre_transaction = pd.DataFrame(table2, columns=('States','Years', 'Quarter', 'Transaction_type', 'Transaction_count', 'Transaction_amount'))\n",
    "\n",
    "\n",
    "#aggre_user_df\n",
    "\n",
    "cursor.execute('SELECT * FROM aggregated_user')\n",
    "mydb.commit()\n",
    "table3=cursor.fetchall()\n",
    "\n",
    "Aggre_user = pd.DataFrame(table3, columns=('States','Years', 'Quarter', 'Brands', 'Transaction_count', 'Percentage'))\n",
    "\n",
    "\n",
    "#map_insurance_df\n",
    "\n",
    "cursor.execute('SELECT * FROM map_insurance')\n",
    "mydb.commit()\n",
    "table4=cursor.fetchall()\n",
    "\n",
    "Map_Insurance = pd.DataFrame(table4, columns=('States','Years', 'Quarter', 'Districts', 'Transaction_count', 'Transaction_amount'))\n",
    "\n",
    "\n",
    "#map_transaction_df\n",
    "\n",
    "cursor.execute('SELECT * FROM map_transaction')\n",
    "mydb.commit()\n",
    "table5=cursor.fetchall()\n",
    "\n",
    "Map_transaction = pd.DataFrame(table5, columns=('States','Years', 'Quarter', 'Districts', 'RegisteredUsers', 'AppOpens'))\n",
    "\n",
    "\n",
    "\n",
    "#map_user_df\n",
    "\n",
    "cursor.execute('SELECT * FROM map_user')\n",
    "mydb.commit()\n",
    "table6=cursor.fetchall()\n",
    "\n",
    "Map_user = pd.DataFrame(table6, columns=('States','Years', 'Quarter', 'Districts', 'RegisteredUsers', 'AppOpens'))\n",
    "\n",
    "\n",
    "#top_insurance_df\n",
    "\n",
    "cursor.execute('SELECT * FROM top_insurance')\n",
    "mydb.commit()\n",
    "table7=cursor.fetchall()\n",
    "\n",
    "Top_Insurance = pd.DataFrame(table7, columns=('States','Years', 'Quarter', 'Pincodes', 'Transaction_count', 'Transaction_amount'))\n",
    "\n",
    "\n",
    "\n",
    "#top_transaction_df\n",
    "\n",
    "cursor.execute('SELECT * FROM top_transaction')\n",
    "mydb.commit()\n",
    "table8=cursor.fetchall()\n",
    "\n",
    "Top_Transaction = pd.DataFrame(table8, columns=('States','Years', 'Quarter', 'Pincodes', 'Transaction_count', 'Transaction_amount'))\n",
    "\n",
    "\n",
    "#top_user_df\n",
    "\n",
    "cursor.execute('SELECT * FROM top_user')\n",
    "mydb.commit()\n",
    "table9=cursor.fetchall()\n",
    "\n",
    "Top_User = pd.DataFrame(table9, columns=('States','Years', 'Quarter', 'Pincodes', 'RegisteredUsers'))\n",
    "\n"
   ]
  },
  {
   "cell_type": "code",
   "execution_count": 82,
   "metadata": {},
   "outputs": [],
   "source": [
    "#DataFrame Creation \n",
    "\n",
    "#sql connection\n",
    "def top_chart_transaction_amount(table_name):\n",
    "    mydb=psycopg2.connect(host='localhost',\n",
    "                        user='postgres',\n",
    "                        port=5432,\n",
    "                        database='phonepe_data',\n",
    "                        password='1234567890')\n",
    "    cursor=mydb.cursor()\n",
    "\n",
    "    #plot_1\n",
    "    query1=f''' SELECT states,SUM(transaction_amount) AS transaction_amount\n",
    "                FROM {table_name}\n",
    "                GROUP BY states\n",
    "                ORDER BY transaction_amount DESC\n",
    "                LIMIT 10;'''\n",
    "\n",
    "    cursor.execute(query1)\n",
    "    table_1=cursor.fetchall()\n",
    "    mydb.commit()\n",
    "\n",
    "    df1=pd.DataFrame(table_1,columns=('states','transaction_amount'))\n",
    "\n",
    "    fig_amount_1=px.bar(df1, x='states',y='transaction_amount',title= 'TRANSACTION AMOUNT',hover_name='states',\n",
    "                    color_discrete_sequence=px.colors.sequential.Aggrnyl, height =650 , width =600)\n",
    "    fig_amount_1.show()\n",
    "\n",
    "\n",
    "    #plot_2\n",
    "    query2=f''' SELECT states,SUM(transaction_amount) AS transaction_amount\n",
    "                FROM {table_name}\n",
    "                GROUP BY states\n",
    "                ORDER BY transaction_amount \n",
    "                LIMIT 10;'''\n",
    "\n",
    "    cursor.execute(query2)\n",
    "    table_2=cursor.fetchall()\n",
    "    mydb.commit()\n",
    "\n",
    "    df2=pd.DataFrame(table_2,columns=('states','transaction_amount'))\n",
    "\n",
    "    fig_amount_2=px.bar(df2, x='states',y='transaction_amount',title= 'TRANSACTION AMOUNT',hover_name='states',\n",
    "                    color_discrete_sequence=px.colors.sequential.Aggrnyl_r, height =650 , width =600)\n",
    "    fig_amount_2.show()\n",
    "\n",
    "    #plot_3\n",
    "    query3=f''' SELECT states,AVG(transaction_amount) AS transaction_amount\n",
    "                FROM {table_name}\n",
    "                GROUP BY states\n",
    "                ORDER BY transaction_amount;'''\n",
    "\n",
    "    cursor.execute(query3)\n",
    "    table_3=cursor.fetchall()\n",
    "    mydb.commit()\n",
    "\n",
    "    df2=pd.DataFrame(table_3,columns=('states','transaction_amount'))\n",
    "\n",
    "    fig_amount_3=px.bar(df2, y='states',x='transaction_amount',title= 'TRANSACTION AMOUNT',hover_name='states',orientation='h',\n",
    "                    color_discrete_sequence=px.colors.sequential.Bluered_r, height =650 , width =600)\n",
    "    fig_amount_3.show()\n"
   ]
  },
  {
   "cell_type": "code",
   "execution_count": 6,
   "metadata": {},
   "outputs": [],
   "source": [
    "#DataFrame Creation \n",
    "\n",
    "#sql connection\n",
    "def top_chart_transaction_count(table_name):\n",
    "    mydb=psycopg2.connect(host='localhost',\n",
    "                        user='postgres',\n",
    "                        port=5432,\n",
    "                        database='phonepe_data',\n",
    "                        password='1234567890')\n",
    "    cursor=mydb.cursor()\n",
    "\n",
    "    #plot_1\n",
    "    query1=f''' SELECT states,SUM(transaction_count) AS transaction_count\n",
    "                FROM {table_name}\n",
    "                GROUP BY states\n",
    "                ORDER BY transaction_count DESC\n",
    "                LIMIT 10;'''\n",
    "\n",
    "    cursor.execute(query1)\n",
    "    table_1=cursor.fetchall()\n",
    "    mydb.commit()\n",
    "\n",
    "    df1=pd.DataFrame(table_1,columns=('states','transaction_count'))\n",
    "\n",
    "    fig_amount_1=px.bar(df1, x='states',y='transaction_count',title= 'TRANSACTION COUNT',hover_name='states',\n",
    "                    color_discrete_sequence=px.colors.sequential.Aggrnyl, height =650 , width =600)\n",
    "    fig_amount_1.show()\n",
    "\n",
    "\n",
    "    #plot_2\n",
    "    query2=f''' SELECT states,SUM(transaction_count) AS transaction_count\n",
    "                FROM {table_name}\n",
    "                GROUP BY states\n",
    "                ORDER BY transaction_count\n",
    "                LIMIT 10;'''\n",
    "\n",
    "    cursor.execute(query2)\n",
    "    table_2=cursor.fetchall()\n",
    "    mydb.commit()\n",
    "\n",
    "    df2=pd.DataFrame(table_2,columns=('states','transaction_count'))\n",
    "\n",
    "    fig_amount_2=px.bar(df2, x='states',y='transaction_count',title= 'TRANSACTION COUNT',hover_name='states',\n",
    "                    color_discrete_sequence=px.colors.sequential.Aggrnyl_r, height =650 , width =600)\n",
    "    fig_amount_2.show()\n",
    "\n",
    "    #plot_3\n",
    "    query3=f''' SELECT states,AVG(transaction_count) AS transaction_count\n",
    "                FROM {table_name}\n",
    "                GROUP BY states\n",
    "                ORDER BY transaction_count;'''\n",
    "\n",
    "    cursor.execute(query3)\n",
    "    table_3=cursor.fetchall()\n",
    "    mydb.commit()\n",
    "\n",
    "    df3=pd.DataFrame(table_3,columns=('states','transaction_count'))\n",
    "\n",
    "    fig_amount_3=px.bar(df3, y='states',x='transaction_count',title= 'TRANSACTION COUNT',hover_name='states',orientation='h',\n",
    "                    color_discrete_sequence=px.colors.sequential.Bluered_r, height =650 , width =600)\n",
    "    fig_amount_3.show()"
   ]
  },
  {
   "cell_type": "code",
   "execution_count": 15,
   "metadata": {},
   "outputs": [],
   "source": [
    "#DataFrame Creation \n",
    "\n",
    "#sql connection\n",
    "def top_chart_registered_user(table_name,state):\n",
    "    mydb=psycopg2.connect(host='localhost',\n",
    "                        user='postgres',\n",
    "                        port=5432,\n",
    "                        database='phonepe_data',\n",
    "                        password='1234567890')\n",
    "    cursor=mydb.cursor()\n",
    "\n",
    "    #plot_1\n",
    "    query1=f''' SELECT districts, SUM(registeredusers) AS registeredusers \n",
    "                FROM {table_name}\n",
    "                WHERE states = '{state}'\n",
    "                GROUP BY districts\n",
    "                ORDER BY registeredusers DESC\n",
    "                LIMIT 10;'''\n",
    "\n",
    "    cursor.execute(query1)\n",
    "    table_1=cursor.fetchall()\n",
    "    mydb.commit()\n",
    "\n",
    "    df1=pd.DataFrame(table_1,columns=('districts','regsiteredusers'))\n",
    "\n",
    "    fig_amount_1=px.bar(df1, x='districts',y='regsiteredusers',title= 'TOP 10 OF REGSITERED USER',hover_name='districts',   \n",
    "                       color_discrete_sequence=px.colors.sequential.Aggrnyl, height =650 , width =600)\n",
    "    fig_amount_1.show()\n",
    "\n",
    "\n",
    "    #plot_2\n",
    "    query2=f''' SELECT districts, SUM(registeredusers) AS registeredusers \n",
    "                FROM {table_name}\n",
    "                WHERE states = '{state}'\n",
    "                GROUP BY districts\n",
    "                ORDER BY registeredusers \n",
    "                LIMIT 10;'''\n",
    "\n",
    "    cursor.execute(query2)\n",
    "    table_2=cursor.fetchall()\n",
    "    mydb.commit()\n",
    "\n",
    "    df2=pd.DataFrame(table_2,columns=('districts','regsiteredusers'))\n",
    "\n",
    "    fig_amount_2=px.bar(df2,x='districts',y='regsiteredusers',title= 'LAST 10 OF REGSITERED USER',hover_name='districts',   \n",
    "                       color_discrete_sequence=px.colors.sequential.Aggrnyl_r, height =650 , width =600)\n",
    "    fig_amount_2.show()\n",
    "\n",
    "    #plot_3\n",
    "    query3=f''' SELECT districts, AVG(registeredusers) AS registeredusers \n",
    "                FROM {table_name}\n",
    "                WHERE states = '{state}'\n",
    "                GROUP BY districts\n",
    "                ORDER BY registeredusers DESC;'''\n",
    "\n",
    "    cursor.execute(query3)\n",
    "    table_3=cursor.fetchall()\n",
    "    mydb.commit()\n",
    "\n",
    "    df3=pd.DataFrame(table_3,columns=('districts','regsiteredusers'))\n",
    "\n",
    "    fig_amount_3=px.bar(df3,y='districts',x='registeredusers',title= 'AVERAGE  OF REGISTERED USER',hover_name='districts',orientation='h', \n",
    "                       color_discrete_sequence=px.colors.sequential.Bluered_r, height =800 , width =1000)\n",
    "    fig_amount_3.show()"
   ]
  },
  {
   "cell_type": "code",
   "execution_count": null,
   "metadata": {},
   "outputs": [],
   "source": [
    "#DataFrame Creation \n",
    "\n",
    "#sql connection\n",
    "def top_chart_appopens(table_name,state):\n",
    "    mydb=psycopg2.connect(host='localhost',\n",
    "                        user='postgres',\n",
    "                        port=5432,\n",
    "                        database='phonepe_data',\n",
    "                        password='1234567890')\n",
    "    cursor=mydb.cursor()\n",
    "\n",
    "    #plot_1\n",
    "    query1=f''' SELECT districts, SUM(appopens) AS appopens \n",
    "                FROM {table_name}\n",
    "                WHERE states = '{state}'\n",
    "                GROUP BY districts\n",
    "                ORDER BY appopens DESC\n",
    "                LIMIT 10;'''\n",
    "\n",
    "    cursor.execute(query1)\n",
    "    table_1=cursor.fetchall()\n",
    "    mydb.commit()\n",
    "\n",
    "    df1=pd.DataFrame(table_1,columns=('districts','appopens'))\n",
    "\n",
    "    fig_amount_1=px.bar(df1, x='districts',y='appopens',title= 'TOP 10 OF APPOPENS',hover_name='districts',   \n",
    "                       color_discrete_sequence=px.colors.sequential.Aggrnyl, height =650 , width =600)\n",
    "    fig_amount_1.show()\n",
    "\n",
    "\n",
    "    #plot_2\n",
    "    query2=f''' SELECT districts, SUM(appopens) AS appopens \n",
    "                FROM {table_name}\n",
    "                WHERE states = '{state}'\n",
    "                GROUP BY districts\n",
    "                ORDER BY appopens \n",
    "                LIMIT 10;'''\n",
    "\n",
    "    cursor.execute(query2)\n",
    "    table_2=cursor.fetchall()\n",
    "    mydb.commit()\n",
    "\n",
    "    df2=pd.DataFrame(table_2,columns=('districts','appopens'))\n",
    "\n",
    "    fig_amount_2=px.bar(df2,x='districts',y='appopens',title= 'LAST 10 OF APPOPENS',hover_name='districts',   \n",
    "                       color_discrete_sequence=px.colors.sequential.Aggrnyl_r, height =650 , width =600)\n",
    "    fig_amount_2.show()\n",
    "\n",
    "    #plot_3\n",
    "    query3=f''' SELECT districts, AVG(appopens) AS appopens \n",
    "                FROM {table_name}\n",
    "                WHERE states = '{state}'\n",
    "                GROUP BY districts\n",
    "                ORDER BY appopens DESC;'''\n",
    "\n",
    "    cursor.execute(query3)\n",
    "    table_3=cursor.fetchall()\n",
    "    mydb.commit()\n",
    "\n",
    "    df3=pd.DataFrame(table_3,columns=('districts','appopens'))\n",
    "\n",
    "    fig_amount_3=px.bar(df3,y='districts',x='appopens',title= 'AVERAGE  OF APPOPENS',hover_name='districts',orientation='h', \n",
    "                       color_discrete_sequence=px.colors.sequential.Bluered_r, height =800 , width =1000)\n",
    "    fig_amount_3.show()"
   ]
  },
  {
   "cell_type": "code",
   "execution_count": 16,
   "metadata": {},
   "outputs": [
    {
     "data": {
      "application/vnd.plotly.v1+json": {
       "config": {
        "plotlyServerURL": "https://plot.ly"
       },
       "data": [
        {
         "alignmentgroup": "True",
         "hovertemplate": "<b>%{hovertext}</b><br><br>districts=%{x}<br>regsiteredusers=%{y}<extra></extra>",
         "hovertext": [
          "chennai district",
          "thiruvallur district",
          "coimbatore district",
          "chengalpattu district",
          "kancheepuram district",
          "tiruppur district",
          "salem district",
          "madurai district",
          "krishnagiri district",
          "tiruchirappalli district"
         ],
         "legendgroup": "",
         "marker": {
          "color": "rgb(36, 86, 104)",
          "pattern": {
           "shape": ""
          }
         },
         "name": "",
         "offsetgroup": "",
         "orientation": "v",
         "showlegend": false,
         "textposition": "auto",
         "type": "bar",
         "x": [
          "chennai district",
          "thiruvallur district",
          "coimbatore district",
          "chengalpattu district",
          "kancheepuram district",
          "tiruppur district",
          "salem district",
          "madurai district",
          "krishnagiri district",
          "tiruchirappalli district"
         ],
         "xaxis": "x",
         "y": [
          85578832,
          69596732,
          58964092,
          58316224,
          41219346,
          34987078,
          31415782,
          28374964,
          26802038,
          23860560
         ],
         "yaxis": "y"
        }
       ],
       "layout": {
        "barmode": "relative",
        "height": 650,
        "legend": {
         "tracegroupgap": 0
        },
        "template": {
         "data": {
          "bar": [
           {
            "error_x": {
             "color": "#2a3f5f"
            },
            "error_y": {
             "color": "#2a3f5f"
            },
            "marker": {
             "line": {
              "color": "#E5ECF6",
              "width": 0.5
             },
             "pattern": {
              "fillmode": "overlay",
              "size": 10,
              "solidity": 0.2
             }
            },
            "type": "bar"
           }
          ],
          "barpolar": [
           {
            "marker": {
             "line": {
              "color": "#E5ECF6",
              "width": 0.5
             },
             "pattern": {
              "fillmode": "overlay",
              "size": 10,
              "solidity": 0.2
             }
            },
            "type": "barpolar"
           }
          ],
          "carpet": [
           {
            "aaxis": {
             "endlinecolor": "#2a3f5f",
             "gridcolor": "white",
             "linecolor": "white",
             "minorgridcolor": "white",
             "startlinecolor": "#2a3f5f"
            },
            "baxis": {
             "endlinecolor": "#2a3f5f",
             "gridcolor": "white",
             "linecolor": "white",
             "minorgridcolor": "white",
             "startlinecolor": "#2a3f5f"
            },
            "type": "carpet"
           }
          ],
          "choropleth": [
           {
            "colorbar": {
             "outlinewidth": 0,
             "ticks": ""
            },
            "type": "choropleth"
           }
          ],
          "contour": [
           {
            "colorbar": {
             "outlinewidth": 0,
             "ticks": ""
            },
            "colorscale": [
             [
              0,
              "#0d0887"
             ],
             [
              0.1111111111111111,
              "#46039f"
             ],
             [
              0.2222222222222222,
              "#7201a8"
             ],
             [
              0.3333333333333333,
              "#9c179e"
             ],
             [
              0.4444444444444444,
              "#bd3786"
             ],
             [
              0.5555555555555556,
              "#d8576b"
             ],
             [
              0.6666666666666666,
              "#ed7953"
             ],
             [
              0.7777777777777778,
              "#fb9f3a"
             ],
             [
              0.8888888888888888,
              "#fdca26"
             ],
             [
              1,
              "#f0f921"
             ]
            ],
            "type": "contour"
           }
          ],
          "contourcarpet": [
           {
            "colorbar": {
             "outlinewidth": 0,
             "ticks": ""
            },
            "type": "contourcarpet"
           }
          ],
          "heatmap": [
           {
            "colorbar": {
             "outlinewidth": 0,
             "ticks": ""
            },
            "colorscale": [
             [
              0,
              "#0d0887"
             ],
             [
              0.1111111111111111,
              "#46039f"
             ],
             [
              0.2222222222222222,
              "#7201a8"
             ],
             [
              0.3333333333333333,
              "#9c179e"
             ],
             [
              0.4444444444444444,
              "#bd3786"
             ],
             [
              0.5555555555555556,
              "#d8576b"
             ],
             [
              0.6666666666666666,
              "#ed7953"
             ],
             [
              0.7777777777777778,
              "#fb9f3a"
             ],
             [
              0.8888888888888888,
              "#fdca26"
             ],
             [
              1,
              "#f0f921"
             ]
            ],
            "type": "heatmap"
           }
          ],
          "heatmapgl": [
           {
            "colorbar": {
             "outlinewidth": 0,
             "ticks": ""
            },
            "colorscale": [
             [
              0,
              "#0d0887"
             ],
             [
              0.1111111111111111,
              "#46039f"
             ],
             [
              0.2222222222222222,
              "#7201a8"
             ],
             [
              0.3333333333333333,
              "#9c179e"
             ],
             [
              0.4444444444444444,
              "#bd3786"
             ],
             [
              0.5555555555555556,
              "#d8576b"
             ],
             [
              0.6666666666666666,
              "#ed7953"
             ],
             [
              0.7777777777777778,
              "#fb9f3a"
             ],
             [
              0.8888888888888888,
              "#fdca26"
             ],
             [
              1,
              "#f0f921"
             ]
            ],
            "type": "heatmapgl"
           }
          ],
          "histogram": [
           {
            "marker": {
             "pattern": {
              "fillmode": "overlay",
              "size": 10,
              "solidity": 0.2
             }
            },
            "type": "histogram"
           }
          ],
          "histogram2d": [
           {
            "colorbar": {
             "outlinewidth": 0,
             "ticks": ""
            },
            "colorscale": [
             [
              0,
              "#0d0887"
             ],
             [
              0.1111111111111111,
              "#46039f"
             ],
             [
              0.2222222222222222,
              "#7201a8"
             ],
             [
              0.3333333333333333,
              "#9c179e"
             ],
             [
              0.4444444444444444,
              "#bd3786"
             ],
             [
              0.5555555555555556,
              "#d8576b"
             ],
             [
              0.6666666666666666,
              "#ed7953"
             ],
             [
              0.7777777777777778,
              "#fb9f3a"
             ],
             [
              0.8888888888888888,
              "#fdca26"
             ],
             [
              1,
              "#f0f921"
             ]
            ],
            "type": "histogram2d"
           }
          ],
          "histogram2dcontour": [
           {
            "colorbar": {
             "outlinewidth": 0,
             "ticks": ""
            },
            "colorscale": [
             [
              0,
              "#0d0887"
             ],
             [
              0.1111111111111111,
              "#46039f"
             ],
             [
              0.2222222222222222,
              "#7201a8"
             ],
             [
              0.3333333333333333,
              "#9c179e"
             ],
             [
              0.4444444444444444,
              "#bd3786"
             ],
             [
              0.5555555555555556,
              "#d8576b"
             ],
             [
              0.6666666666666666,
              "#ed7953"
             ],
             [
              0.7777777777777778,
              "#fb9f3a"
             ],
             [
              0.8888888888888888,
              "#fdca26"
             ],
             [
              1,
              "#f0f921"
             ]
            ],
            "type": "histogram2dcontour"
           }
          ],
          "mesh3d": [
           {
            "colorbar": {
             "outlinewidth": 0,
             "ticks": ""
            },
            "type": "mesh3d"
           }
          ],
          "parcoords": [
           {
            "line": {
             "colorbar": {
              "outlinewidth": 0,
              "ticks": ""
             }
            },
            "type": "parcoords"
           }
          ],
          "pie": [
           {
            "automargin": true,
            "type": "pie"
           }
          ],
          "scatter": [
           {
            "fillpattern": {
             "fillmode": "overlay",
             "size": 10,
             "solidity": 0.2
            },
            "type": "scatter"
           }
          ],
          "scatter3d": [
           {
            "line": {
             "colorbar": {
              "outlinewidth": 0,
              "ticks": ""
             }
            },
            "marker": {
             "colorbar": {
              "outlinewidth": 0,
              "ticks": ""
             }
            },
            "type": "scatter3d"
           }
          ],
          "scattercarpet": [
           {
            "marker": {
             "colorbar": {
              "outlinewidth": 0,
              "ticks": ""
             }
            },
            "type": "scattercarpet"
           }
          ],
          "scattergeo": [
           {
            "marker": {
             "colorbar": {
              "outlinewidth": 0,
              "ticks": ""
             }
            },
            "type": "scattergeo"
           }
          ],
          "scattergl": [
           {
            "marker": {
             "colorbar": {
              "outlinewidth": 0,
              "ticks": ""
             }
            },
            "type": "scattergl"
           }
          ],
          "scattermapbox": [
           {
            "marker": {
             "colorbar": {
              "outlinewidth": 0,
              "ticks": ""
             }
            },
            "type": "scattermapbox"
           }
          ],
          "scatterpolar": [
           {
            "marker": {
             "colorbar": {
              "outlinewidth": 0,
              "ticks": ""
             }
            },
            "type": "scatterpolar"
           }
          ],
          "scatterpolargl": [
           {
            "marker": {
             "colorbar": {
              "outlinewidth": 0,
              "ticks": ""
             }
            },
            "type": "scatterpolargl"
           }
          ],
          "scatterternary": [
           {
            "marker": {
             "colorbar": {
              "outlinewidth": 0,
              "ticks": ""
             }
            },
            "type": "scatterternary"
           }
          ],
          "surface": [
           {
            "colorbar": {
             "outlinewidth": 0,
             "ticks": ""
            },
            "colorscale": [
             [
              0,
              "#0d0887"
             ],
             [
              0.1111111111111111,
              "#46039f"
             ],
             [
              0.2222222222222222,
              "#7201a8"
             ],
             [
              0.3333333333333333,
              "#9c179e"
             ],
             [
              0.4444444444444444,
              "#bd3786"
             ],
             [
              0.5555555555555556,
              "#d8576b"
             ],
             [
              0.6666666666666666,
              "#ed7953"
             ],
             [
              0.7777777777777778,
              "#fb9f3a"
             ],
             [
              0.8888888888888888,
              "#fdca26"
             ],
             [
              1,
              "#f0f921"
             ]
            ],
            "type": "surface"
           }
          ],
          "table": [
           {
            "cells": {
             "fill": {
              "color": "#EBF0F8"
             },
             "line": {
              "color": "white"
             }
            },
            "header": {
             "fill": {
              "color": "#C8D4E3"
             },
             "line": {
              "color": "white"
             }
            },
            "type": "table"
           }
          ]
         },
         "layout": {
          "annotationdefaults": {
           "arrowcolor": "#2a3f5f",
           "arrowhead": 0,
           "arrowwidth": 1
          },
          "autotypenumbers": "strict",
          "coloraxis": {
           "colorbar": {
            "outlinewidth": 0,
            "ticks": ""
           }
          },
          "colorscale": {
           "diverging": [
            [
             0,
             "#8e0152"
            ],
            [
             0.1,
             "#c51b7d"
            ],
            [
             0.2,
             "#de77ae"
            ],
            [
             0.3,
             "#f1b6da"
            ],
            [
             0.4,
             "#fde0ef"
            ],
            [
             0.5,
             "#f7f7f7"
            ],
            [
             0.6,
             "#e6f5d0"
            ],
            [
             0.7,
             "#b8e186"
            ],
            [
             0.8,
             "#7fbc41"
            ],
            [
             0.9,
             "#4d9221"
            ],
            [
             1,
             "#276419"
            ]
           ],
           "sequential": [
            [
             0,
             "#0d0887"
            ],
            [
             0.1111111111111111,
             "#46039f"
            ],
            [
             0.2222222222222222,
             "#7201a8"
            ],
            [
             0.3333333333333333,
             "#9c179e"
            ],
            [
             0.4444444444444444,
             "#bd3786"
            ],
            [
             0.5555555555555556,
             "#d8576b"
            ],
            [
             0.6666666666666666,
             "#ed7953"
            ],
            [
             0.7777777777777778,
             "#fb9f3a"
            ],
            [
             0.8888888888888888,
             "#fdca26"
            ],
            [
             1,
             "#f0f921"
            ]
           ],
           "sequentialminus": [
            [
             0,
             "#0d0887"
            ],
            [
             0.1111111111111111,
             "#46039f"
            ],
            [
             0.2222222222222222,
             "#7201a8"
            ],
            [
             0.3333333333333333,
             "#9c179e"
            ],
            [
             0.4444444444444444,
             "#bd3786"
            ],
            [
             0.5555555555555556,
             "#d8576b"
            ],
            [
             0.6666666666666666,
             "#ed7953"
            ],
            [
             0.7777777777777778,
             "#fb9f3a"
            ],
            [
             0.8888888888888888,
             "#fdca26"
            ],
            [
             1,
             "#f0f921"
            ]
           ]
          },
          "colorway": [
           "#636efa",
           "#EF553B",
           "#00cc96",
           "#ab63fa",
           "#FFA15A",
           "#19d3f3",
           "#FF6692",
           "#B6E880",
           "#FF97FF",
           "#FECB52"
          ],
          "font": {
           "color": "#2a3f5f"
          },
          "geo": {
           "bgcolor": "white",
           "lakecolor": "white",
           "landcolor": "#E5ECF6",
           "showlakes": true,
           "showland": true,
           "subunitcolor": "white"
          },
          "hoverlabel": {
           "align": "left"
          },
          "hovermode": "closest",
          "mapbox": {
           "style": "light"
          },
          "paper_bgcolor": "white",
          "plot_bgcolor": "#E5ECF6",
          "polar": {
           "angularaxis": {
            "gridcolor": "white",
            "linecolor": "white",
            "ticks": ""
           },
           "bgcolor": "#E5ECF6",
           "radialaxis": {
            "gridcolor": "white",
            "linecolor": "white",
            "ticks": ""
           }
          },
          "scene": {
           "xaxis": {
            "backgroundcolor": "#E5ECF6",
            "gridcolor": "white",
            "gridwidth": 2,
            "linecolor": "white",
            "showbackground": true,
            "ticks": "",
            "zerolinecolor": "white"
           },
           "yaxis": {
            "backgroundcolor": "#E5ECF6",
            "gridcolor": "white",
            "gridwidth": 2,
            "linecolor": "white",
            "showbackground": true,
            "ticks": "",
            "zerolinecolor": "white"
           },
           "zaxis": {
            "backgroundcolor": "#E5ECF6",
            "gridcolor": "white",
            "gridwidth": 2,
            "linecolor": "white",
            "showbackground": true,
            "ticks": "",
            "zerolinecolor": "white"
           }
          },
          "shapedefaults": {
           "line": {
            "color": "#2a3f5f"
           }
          },
          "ternary": {
           "aaxis": {
            "gridcolor": "white",
            "linecolor": "white",
            "ticks": ""
           },
           "baxis": {
            "gridcolor": "white",
            "linecolor": "white",
            "ticks": ""
           },
           "bgcolor": "#E5ECF6",
           "caxis": {
            "gridcolor": "white",
            "linecolor": "white",
            "ticks": ""
           }
          },
          "title": {
           "x": 0.05
          },
          "xaxis": {
           "automargin": true,
           "gridcolor": "white",
           "linecolor": "white",
           "ticks": "",
           "title": {
            "standoff": 15
           },
           "zerolinecolor": "white",
           "zerolinewidth": 2
          },
          "yaxis": {
           "automargin": true,
           "gridcolor": "white",
           "linecolor": "white",
           "ticks": "",
           "title": {
            "standoff": 15
           },
           "zerolinecolor": "white",
           "zerolinewidth": 2
          }
         }
        },
        "title": {
         "text": "TOP 10 OF REGSITERED USER"
        },
        "width": 600,
        "xaxis": {
         "anchor": "y",
         "domain": [
          0,
          1
         ],
         "title": {
          "text": "districts"
         }
        },
        "yaxis": {
         "anchor": "x",
         "domain": [
          0,
          1
         ],
         "title": {
          "text": "regsiteredusers"
         }
        }
       }
      }
     },
     "metadata": {},
     "output_type": "display_data"
    },
    {
     "data": {
      "application/vnd.plotly.v1+json": {
       "config": {
        "plotlyServerURL": "https://plot.ly"
       },
       "data": [
        {
         "alignmentgroup": "True",
         "hovertemplate": "<b>%{hovertext}</b><br><br>districts=%{x}<br>regsiteredusers=%{y}<extra></extra>",
         "hovertext": [
          "perambalur district",
          "ariyalur district",
          "thiruvarur district",
          "the nilgiris district",
          "tenkasi district",
          "ramanathapuram district",
          "karur district",
          "nagapattinam district",
          "pudukkottai district",
          "sivaganga district"
         ],
         "legendgroup": "",
         "marker": {
          "color": "rgb(237, 239, 93)",
          "pattern": {
           "shape": ""
          }
         },
         "name": "",
         "offsetgroup": "",
         "orientation": "v",
         "showlegend": false,
         "textposition": "auto",
         "type": "bar",
         "x": [
          "perambalur district",
          "ariyalur district",
          "thiruvarur district",
          "the nilgiris district",
          "tenkasi district",
          "ramanathapuram district",
          "karur district",
          "nagapattinam district",
          "pudukkottai district",
          "sivaganga district"
         ],
         "xaxis": "x",
         "y": [
          3809038,
          4539876,
          5737060,
          5876260,
          6926082,
          7097384,
          7615628,
          7658690,
          7960492,
          8131284
         ],
         "yaxis": "y"
        }
       ],
       "layout": {
        "barmode": "relative",
        "height": 650,
        "legend": {
         "tracegroupgap": 0
        },
        "template": {
         "data": {
          "bar": [
           {
            "error_x": {
             "color": "#2a3f5f"
            },
            "error_y": {
             "color": "#2a3f5f"
            },
            "marker": {
             "line": {
              "color": "#E5ECF6",
              "width": 0.5
             },
             "pattern": {
              "fillmode": "overlay",
              "size": 10,
              "solidity": 0.2
             }
            },
            "type": "bar"
           }
          ],
          "barpolar": [
           {
            "marker": {
             "line": {
              "color": "#E5ECF6",
              "width": 0.5
             },
             "pattern": {
              "fillmode": "overlay",
              "size": 10,
              "solidity": 0.2
             }
            },
            "type": "barpolar"
           }
          ],
          "carpet": [
           {
            "aaxis": {
             "endlinecolor": "#2a3f5f",
             "gridcolor": "white",
             "linecolor": "white",
             "minorgridcolor": "white",
             "startlinecolor": "#2a3f5f"
            },
            "baxis": {
             "endlinecolor": "#2a3f5f",
             "gridcolor": "white",
             "linecolor": "white",
             "minorgridcolor": "white",
             "startlinecolor": "#2a3f5f"
            },
            "type": "carpet"
           }
          ],
          "choropleth": [
           {
            "colorbar": {
             "outlinewidth": 0,
             "ticks": ""
            },
            "type": "choropleth"
           }
          ],
          "contour": [
           {
            "colorbar": {
             "outlinewidth": 0,
             "ticks": ""
            },
            "colorscale": [
             [
              0,
              "#0d0887"
             ],
             [
              0.1111111111111111,
              "#46039f"
             ],
             [
              0.2222222222222222,
              "#7201a8"
             ],
             [
              0.3333333333333333,
              "#9c179e"
             ],
             [
              0.4444444444444444,
              "#bd3786"
             ],
             [
              0.5555555555555556,
              "#d8576b"
             ],
             [
              0.6666666666666666,
              "#ed7953"
             ],
             [
              0.7777777777777778,
              "#fb9f3a"
             ],
             [
              0.8888888888888888,
              "#fdca26"
             ],
             [
              1,
              "#f0f921"
             ]
            ],
            "type": "contour"
           }
          ],
          "contourcarpet": [
           {
            "colorbar": {
             "outlinewidth": 0,
             "ticks": ""
            },
            "type": "contourcarpet"
           }
          ],
          "heatmap": [
           {
            "colorbar": {
             "outlinewidth": 0,
             "ticks": ""
            },
            "colorscale": [
             [
              0,
              "#0d0887"
             ],
             [
              0.1111111111111111,
              "#46039f"
             ],
             [
              0.2222222222222222,
              "#7201a8"
             ],
             [
              0.3333333333333333,
              "#9c179e"
             ],
             [
              0.4444444444444444,
              "#bd3786"
             ],
             [
              0.5555555555555556,
              "#d8576b"
             ],
             [
              0.6666666666666666,
              "#ed7953"
             ],
             [
              0.7777777777777778,
              "#fb9f3a"
             ],
             [
              0.8888888888888888,
              "#fdca26"
             ],
             [
              1,
              "#f0f921"
             ]
            ],
            "type": "heatmap"
           }
          ],
          "heatmapgl": [
           {
            "colorbar": {
             "outlinewidth": 0,
             "ticks": ""
            },
            "colorscale": [
             [
              0,
              "#0d0887"
             ],
             [
              0.1111111111111111,
              "#46039f"
             ],
             [
              0.2222222222222222,
              "#7201a8"
             ],
             [
              0.3333333333333333,
              "#9c179e"
             ],
             [
              0.4444444444444444,
              "#bd3786"
             ],
             [
              0.5555555555555556,
              "#d8576b"
             ],
             [
              0.6666666666666666,
              "#ed7953"
             ],
             [
              0.7777777777777778,
              "#fb9f3a"
             ],
             [
              0.8888888888888888,
              "#fdca26"
             ],
             [
              1,
              "#f0f921"
             ]
            ],
            "type": "heatmapgl"
           }
          ],
          "histogram": [
           {
            "marker": {
             "pattern": {
              "fillmode": "overlay",
              "size": 10,
              "solidity": 0.2
             }
            },
            "type": "histogram"
           }
          ],
          "histogram2d": [
           {
            "colorbar": {
             "outlinewidth": 0,
             "ticks": ""
            },
            "colorscale": [
             [
              0,
              "#0d0887"
             ],
             [
              0.1111111111111111,
              "#46039f"
             ],
             [
              0.2222222222222222,
              "#7201a8"
             ],
             [
              0.3333333333333333,
              "#9c179e"
             ],
             [
              0.4444444444444444,
              "#bd3786"
             ],
             [
              0.5555555555555556,
              "#d8576b"
             ],
             [
              0.6666666666666666,
              "#ed7953"
             ],
             [
              0.7777777777777778,
              "#fb9f3a"
             ],
             [
              0.8888888888888888,
              "#fdca26"
             ],
             [
              1,
              "#f0f921"
             ]
            ],
            "type": "histogram2d"
           }
          ],
          "histogram2dcontour": [
           {
            "colorbar": {
             "outlinewidth": 0,
             "ticks": ""
            },
            "colorscale": [
             [
              0,
              "#0d0887"
             ],
             [
              0.1111111111111111,
              "#46039f"
             ],
             [
              0.2222222222222222,
              "#7201a8"
             ],
             [
              0.3333333333333333,
              "#9c179e"
             ],
             [
              0.4444444444444444,
              "#bd3786"
             ],
             [
              0.5555555555555556,
              "#d8576b"
             ],
             [
              0.6666666666666666,
              "#ed7953"
             ],
             [
              0.7777777777777778,
              "#fb9f3a"
             ],
             [
              0.8888888888888888,
              "#fdca26"
             ],
             [
              1,
              "#f0f921"
             ]
            ],
            "type": "histogram2dcontour"
           }
          ],
          "mesh3d": [
           {
            "colorbar": {
             "outlinewidth": 0,
             "ticks": ""
            },
            "type": "mesh3d"
           }
          ],
          "parcoords": [
           {
            "line": {
             "colorbar": {
              "outlinewidth": 0,
              "ticks": ""
             }
            },
            "type": "parcoords"
           }
          ],
          "pie": [
           {
            "automargin": true,
            "type": "pie"
           }
          ],
          "scatter": [
           {
            "fillpattern": {
             "fillmode": "overlay",
             "size": 10,
             "solidity": 0.2
            },
            "type": "scatter"
           }
          ],
          "scatter3d": [
           {
            "line": {
             "colorbar": {
              "outlinewidth": 0,
              "ticks": ""
             }
            },
            "marker": {
             "colorbar": {
              "outlinewidth": 0,
              "ticks": ""
             }
            },
            "type": "scatter3d"
           }
          ],
          "scattercarpet": [
           {
            "marker": {
             "colorbar": {
              "outlinewidth": 0,
              "ticks": ""
             }
            },
            "type": "scattercarpet"
           }
          ],
          "scattergeo": [
           {
            "marker": {
             "colorbar": {
              "outlinewidth": 0,
              "ticks": ""
             }
            },
            "type": "scattergeo"
           }
          ],
          "scattergl": [
           {
            "marker": {
             "colorbar": {
              "outlinewidth": 0,
              "ticks": ""
             }
            },
            "type": "scattergl"
           }
          ],
          "scattermapbox": [
           {
            "marker": {
             "colorbar": {
              "outlinewidth": 0,
              "ticks": ""
             }
            },
            "type": "scattermapbox"
           }
          ],
          "scatterpolar": [
           {
            "marker": {
             "colorbar": {
              "outlinewidth": 0,
              "ticks": ""
             }
            },
            "type": "scatterpolar"
           }
          ],
          "scatterpolargl": [
           {
            "marker": {
             "colorbar": {
              "outlinewidth": 0,
              "ticks": ""
             }
            },
            "type": "scatterpolargl"
           }
          ],
          "scatterternary": [
           {
            "marker": {
             "colorbar": {
              "outlinewidth": 0,
              "ticks": ""
             }
            },
            "type": "scatterternary"
           }
          ],
          "surface": [
           {
            "colorbar": {
             "outlinewidth": 0,
             "ticks": ""
            },
            "colorscale": [
             [
              0,
              "#0d0887"
             ],
             [
              0.1111111111111111,
              "#46039f"
             ],
             [
              0.2222222222222222,
              "#7201a8"
             ],
             [
              0.3333333333333333,
              "#9c179e"
             ],
             [
              0.4444444444444444,
              "#bd3786"
             ],
             [
              0.5555555555555556,
              "#d8576b"
             ],
             [
              0.6666666666666666,
              "#ed7953"
             ],
             [
              0.7777777777777778,
              "#fb9f3a"
             ],
             [
              0.8888888888888888,
              "#fdca26"
             ],
             [
              1,
              "#f0f921"
             ]
            ],
            "type": "surface"
           }
          ],
          "table": [
           {
            "cells": {
             "fill": {
              "color": "#EBF0F8"
             },
             "line": {
              "color": "white"
             }
            },
            "header": {
             "fill": {
              "color": "#C8D4E3"
             },
             "line": {
              "color": "white"
             }
            },
            "type": "table"
           }
          ]
         },
         "layout": {
          "annotationdefaults": {
           "arrowcolor": "#2a3f5f",
           "arrowhead": 0,
           "arrowwidth": 1
          },
          "autotypenumbers": "strict",
          "coloraxis": {
           "colorbar": {
            "outlinewidth": 0,
            "ticks": ""
           }
          },
          "colorscale": {
           "diverging": [
            [
             0,
             "#8e0152"
            ],
            [
             0.1,
             "#c51b7d"
            ],
            [
             0.2,
             "#de77ae"
            ],
            [
             0.3,
             "#f1b6da"
            ],
            [
             0.4,
             "#fde0ef"
            ],
            [
             0.5,
             "#f7f7f7"
            ],
            [
             0.6,
             "#e6f5d0"
            ],
            [
             0.7,
             "#b8e186"
            ],
            [
             0.8,
             "#7fbc41"
            ],
            [
             0.9,
             "#4d9221"
            ],
            [
             1,
             "#276419"
            ]
           ],
           "sequential": [
            [
             0,
             "#0d0887"
            ],
            [
             0.1111111111111111,
             "#46039f"
            ],
            [
             0.2222222222222222,
             "#7201a8"
            ],
            [
             0.3333333333333333,
             "#9c179e"
            ],
            [
             0.4444444444444444,
             "#bd3786"
            ],
            [
             0.5555555555555556,
             "#d8576b"
            ],
            [
             0.6666666666666666,
             "#ed7953"
            ],
            [
             0.7777777777777778,
             "#fb9f3a"
            ],
            [
             0.8888888888888888,
             "#fdca26"
            ],
            [
             1,
             "#f0f921"
            ]
           ],
           "sequentialminus": [
            [
             0,
             "#0d0887"
            ],
            [
             0.1111111111111111,
             "#46039f"
            ],
            [
             0.2222222222222222,
             "#7201a8"
            ],
            [
             0.3333333333333333,
             "#9c179e"
            ],
            [
             0.4444444444444444,
             "#bd3786"
            ],
            [
             0.5555555555555556,
             "#d8576b"
            ],
            [
             0.6666666666666666,
             "#ed7953"
            ],
            [
             0.7777777777777778,
             "#fb9f3a"
            ],
            [
             0.8888888888888888,
             "#fdca26"
            ],
            [
             1,
             "#f0f921"
            ]
           ]
          },
          "colorway": [
           "#636efa",
           "#EF553B",
           "#00cc96",
           "#ab63fa",
           "#FFA15A",
           "#19d3f3",
           "#FF6692",
           "#B6E880",
           "#FF97FF",
           "#FECB52"
          ],
          "font": {
           "color": "#2a3f5f"
          },
          "geo": {
           "bgcolor": "white",
           "lakecolor": "white",
           "landcolor": "#E5ECF6",
           "showlakes": true,
           "showland": true,
           "subunitcolor": "white"
          },
          "hoverlabel": {
           "align": "left"
          },
          "hovermode": "closest",
          "mapbox": {
           "style": "light"
          },
          "paper_bgcolor": "white",
          "plot_bgcolor": "#E5ECF6",
          "polar": {
           "angularaxis": {
            "gridcolor": "white",
            "linecolor": "white",
            "ticks": ""
           },
           "bgcolor": "#E5ECF6",
           "radialaxis": {
            "gridcolor": "white",
            "linecolor": "white",
            "ticks": ""
           }
          },
          "scene": {
           "xaxis": {
            "backgroundcolor": "#E5ECF6",
            "gridcolor": "white",
            "gridwidth": 2,
            "linecolor": "white",
            "showbackground": true,
            "ticks": "",
            "zerolinecolor": "white"
           },
           "yaxis": {
            "backgroundcolor": "#E5ECF6",
            "gridcolor": "white",
            "gridwidth": 2,
            "linecolor": "white",
            "showbackground": true,
            "ticks": "",
            "zerolinecolor": "white"
           },
           "zaxis": {
            "backgroundcolor": "#E5ECF6",
            "gridcolor": "white",
            "gridwidth": 2,
            "linecolor": "white",
            "showbackground": true,
            "ticks": "",
            "zerolinecolor": "white"
           }
          },
          "shapedefaults": {
           "line": {
            "color": "#2a3f5f"
           }
          },
          "ternary": {
           "aaxis": {
            "gridcolor": "white",
            "linecolor": "white",
            "ticks": ""
           },
           "baxis": {
            "gridcolor": "white",
            "linecolor": "white",
            "ticks": ""
           },
           "bgcolor": "#E5ECF6",
           "caxis": {
            "gridcolor": "white",
            "linecolor": "white",
            "ticks": ""
           }
          },
          "title": {
           "x": 0.05
          },
          "xaxis": {
           "automargin": true,
           "gridcolor": "white",
           "linecolor": "white",
           "ticks": "",
           "title": {
            "standoff": 15
           },
           "zerolinecolor": "white",
           "zerolinewidth": 2
          },
          "yaxis": {
           "automargin": true,
           "gridcolor": "white",
           "linecolor": "white",
           "ticks": "",
           "title": {
            "standoff": 15
           },
           "zerolinecolor": "white",
           "zerolinewidth": 2
          }
         }
        },
        "title": {
         "text": "LAST 10 OF REGSITERED USER"
        },
        "width": 600,
        "xaxis": {
         "anchor": "y",
         "domain": [
          0,
          1
         ],
         "title": {
          "text": "districts"
         }
        },
        "yaxis": {
         "anchor": "x",
         "domain": [
          0,
          1
         ],
         "title": {
          "text": "regsiteredusers"
         }
        }
       }
      }
     },
     "metadata": {},
     "output_type": "display_data"
    },
    {
     "data": {
      "application/vnd.plotly.v1+json": {
       "config": {
        "plotlyServerURL": "https://plot.ly"
       },
       "data": [
        {
         "alignmentgroup": "True",
         "hovertemplate": "<b>%{hovertext}</b><br><br>regsiteredusers=%{x}<br>districts=%{y}<extra></extra>",
         "hovertext": [
          "chennai district",
          "thiruvallur district",
          "coimbatore district",
          "chengalpattu district",
          "kancheepuram district",
          "tiruppur district",
          "salem district",
          "madurai district",
          "krishnagiri district",
          "tiruchirappalli district",
          "erode district",
          "cuddalore district",
          "tiruvannamalai district",
          "vellore district",
          "thanjavur district",
          "dindigul district",
          "dharmapuri district",
          "namakkal district",
          "viluppuram district",
          "kanniyakumari district",
          "virudhunagar district",
          "tirunelveli district",
          "ranipet district",
          "thoothukkudi district",
          "tirupathur district",
          "kallakkurichi district",
          "theni district",
          "sivaganga district",
          "pudukkottai district",
          "nagapattinam district",
          "karur district",
          "ramanathapuram district",
          "tenkasi district",
          "the nilgiris district",
          "thiruvarur district",
          "ariyalur district",
          "perambalur district"
         ],
         "legendgroup": "",
         "marker": {
          "color": "rgb(255,0,0)",
          "pattern": {
           "shape": ""
          }
         },
         "name": "",
         "offsetgroup": "",
         "orientation": "h",
         "showlegend": false,
         "textposition": "auto",
         "type": "bar",
         "x": [
          1782892.3333333333,
          1449931.9166666667,
          1228418.5833333333,
          1214921.3333333333,
          858736.375,
          728897.4583333334,
          654495.4583333334,
          591145.0833333334,
          558375.7916666666,
          497095,
          422044.75,
          376546.9166666667,
          349159.25,
          325554.1666666667,
          317340.3333333333,
          312453.125,
          290866.2083333333,
          287633.2083333333,
          271167.8333333333,
          262935.4583333333,
          245734.625,
          240805.25,
          235137.91666666666,
          232538.45833333334,
          225952.45833333334,
          216304.125,
          173809.33333333334,
          169401.75,
          165843.58333333334,
          159556.04166666666,
          158658.91666666666,
          147862.16666666666,
          144293.375,
          122422.08333333333,
          119522.08333333333,
          94580.75,
          79354.95833333333
         ],
         "xaxis": "x",
         "y": [
          "chennai district",
          "thiruvallur district",
          "coimbatore district",
          "chengalpattu district",
          "kancheepuram district",
          "tiruppur district",
          "salem district",
          "madurai district",
          "krishnagiri district",
          "tiruchirappalli district",
          "erode district",
          "cuddalore district",
          "tiruvannamalai district",
          "vellore district",
          "thanjavur district",
          "dindigul district",
          "dharmapuri district",
          "namakkal district",
          "viluppuram district",
          "kanniyakumari district",
          "virudhunagar district",
          "tirunelveli district",
          "ranipet district",
          "thoothukkudi district",
          "tirupathur district",
          "kallakkurichi district",
          "theni district",
          "sivaganga district",
          "pudukkottai district",
          "nagapattinam district",
          "karur district",
          "ramanathapuram district",
          "tenkasi district",
          "the nilgiris district",
          "thiruvarur district",
          "ariyalur district",
          "perambalur district"
         ],
         "yaxis": "y"
        }
       ],
       "layout": {
        "barmode": "relative",
        "height": 800,
        "legend": {
         "tracegroupgap": 0
        },
        "template": {
         "data": {
          "bar": [
           {
            "error_x": {
             "color": "#2a3f5f"
            },
            "error_y": {
             "color": "#2a3f5f"
            },
            "marker": {
             "line": {
              "color": "#E5ECF6",
              "width": 0.5
             },
             "pattern": {
              "fillmode": "overlay",
              "size": 10,
              "solidity": 0.2
             }
            },
            "type": "bar"
           }
          ],
          "barpolar": [
           {
            "marker": {
             "line": {
              "color": "#E5ECF6",
              "width": 0.5
             },
             "pattern": {
              "fillmode": "overlay",
              "size": 10,
              "solidity": 0.2
             }
            },
            "type": "barpolar"
           }
          ],
          "carpet": [
           {
            "aaxis": {
             "endlinecolor": "#2a3f5f",
             "gridcolor": "white",
             "linecolor": "white",
             "minorgridcolor": "white",
             "startlinecolor": "#2a3f5f"
            },
            "baxis": {
             "endlinecolor": "#2a3f5f",
             "gridcolor": "white",
             "linecolor": "white",
             "minorgridcolor": "white",
             "startlinecolor": "#2a3f5f"
            },
            "type": "carpet"
           }
          ],
          "choropleth": [
           {
            "colorbar": {
             "outlinewidth": 0,
             "ticks": ""
            },
            "type": "choropleth"
           }
          ],
          "contour": [
           {
            "colorbar": {
             "outlinewidth": 0,
             "ticks": ""
            },
            "colorscale": [
             [
              0,
              "#0d0887"
             ],
             [
              0.1111111111111111,
              "#46039f"
             ],
             [
              0.2222222222222222,
              "#7201a8"
             ],
             [
              0.3333333333333333,
              "#9c179e"
             ],
             [
              0.4444444444444444,
              "#bd3786"
             ],
             [
              0.5555555555555556,
              "#d8576b"
             ],
             [
              0.6666666666666666,
              "#ed7953"
             ],
             [
              0.7777777777777778,
              "#fb9f3a"
             ],
             [
              0.8888888888888888,
              "#fdca26"
             ],
             [
              1,
              "#f0f921"
             ]
            ],
            "type": "contour"
           }
          ],
          "contourcarpet": [
           {
            "colorbar": {
             "outlinewidth": 0,
             "ticks": ""
            },
            "type": "contourcarpet"
           }
          ],
          "heatmap": [
           {
            "colorbar": {
             "outlinewidth": 0,
             "ticks": ""
            },
            "colorscale": [
             [
              0,
              "#0d0887"
             ],
             [
              0.1111111111111111,
              "#46039f"
             ],
             [
              0.2222222222222222,
              "#7201a8"
             ],
             [
              0.3333333333333333,
              "#9c179e"
             ],
             [
              0.4444444444444444,
              "#bd3786"
             ],
             [
              0.5555555555555556,
              "#d8576b"
             ],
             [
              0.6666666666666666,
              "#ed7953"
             ],
             [
              0.7777777777777778,
              "#fb9f3a"
             ],
             [
              0.8888888888888888,
              "#fdca26"
             ],
             [
              1,
              "#f0f921"
             ]
            ],
            "type": "heatmap"
           }
          ],
          "heatmapgl": [
           {
            "colorbar": {
             "outlinewidth": 0,
             "ticks": ""
            },
            "colorscale": [
             [
              0,
              "#0d0887"
             ],
             [
              0.1111111111111111,
              "#46039f"
             ],
             [
              0.2222222222222222,
              "#7201a8"
             ],
             [
              0.3333333333333333,
              "#9c179e"
             ],
             [
              0.4444444444444444,
              "#bd3786"
             ],
             [
              0.5555555555555556,
              "#d8576b"
             ],
             [
              0.6666666666666666,
              "#ed7953"
             ],
             [
              0.7777777777777778,
              "#fb9f3a"
             ],
             [
              0.8888888888888888,
              "#fdca26"
             ],
             [
              1,
              "#f0f921"
             ]
            ],
            "type": "heatmapgl"
           }
          ],
          "histogram": [
           {
            "marker": {
             "pattern": {
              "fillmode": "overlay",
              "size": 10,
              "solidity": 0.2
             }
            },
            "type": "histogram"
           }
          ],
          "histogram2d": [
           {
            "colorbar": {
             "outlinewidth": 0,
             "ticks": ""
            },
            "colorscale": [
             [
              0,
              "#0d0887"
             ],
             [
              0.1111111111111111,
              "#46039f"
             ],
             [
              0.2222222222222222,
              "#7201a8"
             ],
             [
              0.3333333333333333,
              "#9c179e"
             ],
             [
              0.4444444444444444,
              "#bd3786"
             ],
             [
              0.5555555555555556,
              "#d8576b"
             ],
             [
              0.6666666666666666,
              "#ed7953"
             ],
             [
              0.7777777777777778,
              "#fb9f3a"
             ],
             [
              0.8888888888888888,
              "#fdca26"
             ],
             [
              1,
              "#f0f921"
             ]
            ],
            "type": "histogram2d"
           }
          ],
          "histogram2dcontour": [
           {
            "colorbar": {
             "outlinewidth": 0,
             "ticks": ""
            },
            "colorscale": [
             [
              0,
              "#0d0887"
             ],
             [
              0.1111111111111111,
              "#46039f"
             ],
             [
              0.2222222222222222,
              "#7201a8"
             ],
             [
              0.3333333333333333,
              "#9c179e"
             ],
             [
              0.4444444444444444,
              "#bd3786"
             ],
             [
              0.5555555555555556,
              "#d8576b"
             ],
             [
              0.6666666666666666,
              "#ed7953"
             ],
             [
              0.7777777777777778,
              "#fb9f3a"
             ],
             [
              0.8888888888888888,
              "#fdca26"
             ],
             [
              1,
              "#f0f921"
             ]
            ],
            "type": "histogram2dcontour"
           }
          ],
          "mesh3d": [
           {
            "colorbar": {
             "outlinewidth": 0,
             "ticks": ""
            },
            "type": "mesh3d"
           }
          ],
          "parcoords": [
           {
            "line": {
             "colorbar": {
              "outlinewidth": 0,
              "ticks": ""
             }
            },
            "type": "parcoords"
           }
          ],
          "pie": [
           {
            "automargin": true,
            "type": "pie"
           }
          ],
          "scatter": [
           {
            "fillpattern": {
             "fillmode": "overlay",
             "size": 10,
             "solidity": 0.2
            },
            "type": "scatter"
           }
          ],
          "scatter3d": [
           {
            "line": {
             "colorbar": {
              "outlinewidth": 0,
              "ticks": ""
             }
            },
            "marker": {
             "colorbar": {
              "outlinewidth": 0,
              "ticks": ""
             }
            },
            "type": "scatter3d"
           }
          ],
          "scattercarpet": [
           {
            "marker": {
             "colorbar": {
              "outlinewidth": 0,
              "ticks": ""
             }
            },
            "type": "scattercarpet"
           }
          ],
          "scattergeo": [
           {
            "marker": {
             "colorbar": {
              "outlinewidth": 0,
              "ticks": ""
             }
            },
            "type": "scattergeo"
           }
          ],
          "scattergl": [
           {
            "marker": {
             "colorbar": {
              "outlinewidth": 0,
              "ticks": ""
             }
            },
            "type": "scattergl"
           }
          ],
          "scattermapbox": [
           {
            "marker": {
             "colorbar": {
              "outlinewidth": 0,
              "ticks": ""
             }
            },
            "type": "scattermapbox"
           }
          ],
          "scatterpolar": [
           {
            "marker": {
             "colorbar": {
              "outlinewidth": 0,
              "ticks": ""
             }
            },
            "type": "scatterpolar"
           }
          ],
          "scatterpolargl": [
           {
            "marker": {
             "colorbar": {
              "outlinewidth": 0,
              "ticks": ""
             }
            },
            "type": "scatterpolargl"
           }
          ],
          "scatterternary": [
           {
            "marker": {
             "colorbar": {
              "outlinewidth": 0,
              "ticks": ""
             }
            },
            "type": "scatterternary"
           }
          ],
          "surface": [
           {
            "colorbar": {
             "outlinewidth": 0,
             "ticks": ""
            },
            "colorscale": [
             [
              0,
              "#0d0887"
             ],
             [
              0.1111111111111111,
              "#46039f"
             ],
             [
              0.2222222222222222,
              "#7201a8"
             ],
             [
              0.3333333333333333,
              "#9c179e"
             ],
             [
              0.4444444444444444,
              "#bd3786"
             ],
             [
              0.5555555555555556,
              "#d8576b"
             ],
             [
              0.6666666666666666,
              "#ed7953"
             ],
             [
              0.7777777777777778,
              "#fb9f3a"
             ],
             [
              0.8888888888888888,
              "#fdca26"
             ],
             [
              1,
              "#f0f921"
             ]
            ],
            "type": "surface"
           }
          ],
          "table": [
           {
            "cells": {
             "fill": {
              "color": "#EBF0F8"
             },
             "line": {
              "color": "white"
             }
            },
            "header": {
             "fill": {
              "color": "#C8D4E3"
             },
             "line": {
              "color": "white"
             }
            },
            "type": "table"
           }
          ]
         },
         "layout": {
          "annotationdefaults": {
           "arrowcolor": "#2a3f5f",
           "arrowhead": 0,
           "arrowwidth": 1
          },
          "autotypenumbers": "strict",
          "coloraxis": {
           "colorbar": {
            "outlinewidth": 0,
            "ticks": ""
           }
          },
          "colorscale": {
           "diverging": [
            [
             0,
             "#8e0152"
            ],
            [
             0.1,
             "#c51b7d"
            ],
            [
             0.2,
             "#de77ae"
            ],
            [
             0.3,
             "#f1b6da"
            ],
            [
             0.4,
             "#fde0ef"
            ],
            [
             0.5,
             "#f7f7f7"
            ],
            [
             0.6,
             "#e6f5d0"
            ],
            [
             0.7,
             "#b8e186"
            ],
            [
             0.8,
             "#7fbc41"
            ],
            [
             0.9,
             "#4d9221"
            ],
            [
             1,
             "#276419"
            ]
           ],
           "sequential": [
            [
             0,
             "#0d0887"
            ],
            [
             0.1111111111111111,
             "#46039f"
            ],
            [
             0.2222222222222222,
             "#7201a8"
            ],
            [
             0.3333333333333333,
             "#9c179e"
            ],
            [
             0.4444444444444444,
             "#bd3786"
            ],
            [
             0.5555555555555556,
             "#d8576b"
            ],
            [
             0.6666666666666666,
             "#ed7953"
            ],
            [
             0.7777777777777778,
             "#fb9f3a"
            ],
            [
             0.8888888888888888,
             "#fdca26"
            ],
            [
             1,
             "#f0f921"
            ]
           ],
           "sequentialminus": [
            [
             0,
             "#0d0887"
            ],
            [
             0.1111111111111111,
             "#46039f"
            ],
            [
             0.2222222222222222,
             "#7201a8"
            ],
            [
             0.3333333333333333,
             "#9c179e"
            ],
            [
             0.4444444444444444,
             "#bd3786"
            ],
            [
             0.5555555555555556,
             "#d8576b"
            ],
            [
             0.6666666666666666,
             "#ed7953"
            ],
            [
             0.7777777777777778,
             "#fb9f3a"
            ],
            [
             0.8888888888888888,
             "#fdca26"
            ],
            [
             1,
             "#f0f921"
            ]
           ]
          },
          "colorway": [
           "#636efa",
           "#EF553B",
           "#00cc96",
           "#ab63fa",
           "#FFA15A",
           "#19d3f3",
           "#FF6692",
           "#B6E880",
           "#FF97FF",
           "#FECB52"
          ],
          "font": {
           "color": "#2a3f5f"
          },
          "geo": {
           "bgcolor": "white",
           "lakecolor": "white",
           "landcolor": "#E5ECF6",
           "showlakes": true,
           "showland": true,
           "subunitcolor": "white"
          },
          "hoverlabel": {
           "align": "left"
          },
          "hovermode": "closest",
          "mapbox": {
           "style": "light"
          },
          "paper_bgcolor": "white",
          "plot_bgcolor": "#E5ECF6",
          "polar": {
           "angularaxis": {
            "gridcolor": "white",
            "linecolor": "white",
            "ticks": ""
           },
           "bgcolor": "#E5ECF6",
           "radialaxis": {
            "gridcolor": "white",
            "linecolor": "white",
            "ticks": ""
           }
          },
          "scene": {
           "xaxis": {
            "backgroundcolor": "#E5ECF6",
            "gridcolor": "white",
            "gridwidth": 2,
            "linecolor": "white",
            "showbackground": true,
            "ticks": "",
            "zerolinecolor": "white"
           },
           "yaxis": {
            "backgroundcolor": "#E5ECF6",
            "gridcolor": "white",
            "gridwidth": 2,
            "linecolor": "white",
            "showbackground": true,
            "ticks": "",
            "zerolinecolor": "white"
           },
           "zaxis": {
            "backgroundcolor": "#E5ECF6",
            "gridcolor": "white",
            "gridwidth": 2,
            "linecolor": "white",
            "showbackground": true,
            "ticks": "",
            "zerolinecolor": "white"
           }
          },
          "shapedefaults": {
           "line": {
            "color": "#2a3f5f"
           }
          },
          "ternary": {
           "aaxis": {
            "gridcolor": "white",
            "linecolor": "white",
            "ticks": ""
           },
           "baxis": {
            "gridcolor": "white",
            "linecolor": "white",
            "ticks": ""
           },
           "bgcolor": "#E5ECF6",
           "caxis": {
            "gridcolor": "white",
            "linecolor": "white",
            "ticks": ""
           }
          },
          "title": {
           "x": 0.05
          },
          "xaxis": {
           "automargin": true,
           "gridcolor": "white",
           "linecolor": "white",
           "ticks": "",
           "title": {
            "standoff": 15
           },
           "zerolinecolor": "white",
           "zerolinewidth": 2
          },
          "yaxis": {
           "automargin": true,
           "gridcolor": "white",
           "linecolor": "white",
           "ticks": "",
           "title": {
            "standoff": 15
           },
           "zerolinecolor": "white",
           "zerolinewidth": 2
          }
         }
        },
        "title": {
         "text": "AVERAGE  OF REGSITERED USER"
        },
        "width": 1000,
        "xaxis": {
         "anchor": "y",
         "domain": [
          0,
          1
         ],
         "title": {
          "text": "regsiteredusers"
         }
        },
        "yaxis": {
         "anchor": "x",
         "domain": [
          0,
          1
         ],
         "title": {
          "text": "districts"
         }
        }
       }
      }
     },
     "metadata": {},
     "output_type": "display_data"
    }
   ],
   "source": [
    "top_chart_registered_user('Map_user','Tamil Nadu')"
   ]
  },
  {
   "cell_type": "code",
   "execution_count": null,
   "metadata": {},
   "outputs": [],
   "source": [
    "top_chart_transaction_count('aggregated_insurance')"
   ]
  },
  {
   "cell_type": "code",
   "execution_count": null,
   "metadata": {},
   "outputs": [],
   "source": [
    "top_chart_transaction_amount('aggregated_transaction')"
   ]
  },
  {
   "cell_type": "code",
   "execution_count": 6,
   "metadata": {},
   "outputs": [],
   "source": [
    "#Transaction_Year_Based\n",
    "def Transaction_amount_count_Y(df, year):\n",
    "    tacy = df[df['Years'] == year]\n",
    "    tacy.reset_index(drop=True,inplace=True)\n",
    "\n",
    "    tacyg = tacy.groupby('States')[['Transaction_count','Transaction_amount']].sum()\n",
    "    tacyg.reset_index(inplace=True)\n",
    "\n",
    "    fig_amount=px.bar(tacyg, x='States',y='Transaction_amount',title=f'{year} TRANSACTION AMOUNT',\n",
    "                    color_discrete_sequence=px.colors.sequential.Aggrnyl, height =650 , width =600)\n",
    "    fig_amount.show()\n",
    "\n",
    "    fig_count=px.bar(tacyg, x='States',y='Transaction_count',title=f'{year} TRANSACTION COUNT',\n",
    "                    color_discrete_sequence=px.colors.sequential.Bluered_r, height =650 , width =600)\n",
    "    fig_count.show()\n",
    "\n",
    "    url = \"https://gist.githubusercontent.com/jbrobst/56c13bbbf9d97d187fea01ca62ea5112/raw/e388c4cae20aa53cb5090210a42ebb9b765c0a36/india_states.geojson\"\n",
    "    response =requests.get(url)\n",
    "    data1 = json.loads(response.content)\n",
    "    states_name=[]\n",
    "    for feature in data1['features']:\n",
    "        states_name.append(feature['properties']['ST_NM'])\n",
    "    states_name.sort()\n",
    "\n",
    "    fig_india_1=px.choropleth(tacyg, geojson= data1, locations= 'States', featureidkey= 'properties.ST_NM',\n",
    "                              color ='Transaction_amount', color_continuous_scale='Rainbow',\n",
    "                              range_color=(tacyg['Transaction_amount'].min(), tacyg['Transaction_amount'].max()),\n",
    "                              hover_name='States',  title=f'{year} TRANSACTION AMOUNT', fitbounds='locations',\n",
    "                              height =650 , width =600)\n",
    "    \n",
    "    fig_india_1.update_geos(visible=False)\n",
    "    fig_india_1.show()\n",
    "\n",
    "\n",
    "    fig_india_2=px.choropleth(tacyg, geojson= data1, locations= 'States', featureidkey= 'properties.ST_NM',\n",
    "                              color ='Transaction_count', color_continuous_scale='Rainbow',\n",
    "                              range_color=(tacyg['Transaction_count'].min(), tacyg['Transaction_count'].max()),\n",
    "                              hover_name='States',  title=f'{year} TRANSACTION COUNT', fitbounds='locations',\n",
    "                              height =650 , width =600)\n",
    "    \n",
    "    fig_india_2.update_geos(visible=False)\n",
    "    fig_india_2.show()\n",
    "\n",
    "\n",
    "    return tacy\n"
   ]
  },
  {
   "cell_type": "code",
   "execution_count": 7,
   "metadata": {},
   "outputs": [],
   "source": [
    "#Transaction_Quarter_Based\n",
    "def Transaction_amount_count_Y_Q(df, quarter):\n",
    "    tacy = df[df['Quarter'] == quarter]\n",
    "    tacy.reset_index(drop=True,inplace=True)\n",
    "\n",
    "    tacyg = tacy.groupby('States')[['Transaction_count','Transaction_amount']].sum()\n",
    "    tacyg.reset_index(inplace=True)\n",
    "\n",
    "    fig_amount=px.bar(tacyg, x='States',y='Transaction_amount',title=f'{tacy['Years'].min()} YEAR {quarter} QUARTER TRANSACTION AMOUNT',\n",
    "                    color_discrete_sequence=px.colors.sequential.Aggrnyl, height =650 , width =600)\n",
    "    fig_amount.show()\n",
    "\n",
    "    fig_count=px.bar(tacyg, x='States',y='Transaction_count',title=f'{tacy['Years'].min()} YEAR {quarter} QUARTER TRANSACTION COUNT',\n",
    "                    color_discrete_sequence=px.colors.sequential.Bluered_r, height =650 , width =600)\n",
    "    fig_count.show()\n",
    "\n",
    "    url = \"https://gist.githubusercontent.com/jbrobst/56c13bbbf9d97d187fea01ca62ea5112/raw/e388c4cae20aa53cb5090210a42ebb9b765c0a36/india_states.geojson\"\n",
    "    response =requests.get(url)\n",
    "    data1 = json.loads(response.content)\n",
    "    states_name=[]\n",
    "    for feature in data1['features']:\n",
    "        states_name.append(feature['properties']['ST_NM'])\n",
    "    states_name.sort()\n",
    "\n",
    "    fig_india_1=px.choropleth(tacyg, geojson= data1, locations= 'States', featureidkey= 'properties.ST_NM',\n",
    "                              color ='Transaction_amount', color_continuous_scale='Rainbow',\n",
    "                              range_color=(tacyg['Transaction_amount'].min(), tacyg['Transaction_amount'].max()),\n",
    "                              hover_name='States',  title=f'{tacy['Years'].min()} YEAR {quarter} QAURTER TRANSACTION AMOUNT', fitbounds='locations',\n",
    "                              height =650 , width =600)\n",
    "    \n",
    "    fig_india_1.update_geos(visible=False)\n",
    "    fig_india_1.show()\n",
    "\n",
    "\n",
    "    fig_india_2=px.choropleth(tacyg, geojson= data1, locations= 'States', featureidkey= 'properties.ST_NM',\n",
    "                              color ='Transaction_count', color_continuous_scale='Rainbow',\n",
    "                              range_color=(tacyg['Transaction_count'].min(), tacyg['Transaction_count'].max()),\n",
    "                              hover_name='States',  title=f'{tacy['Years'].min()} YEAR {quarter} QUARTER TRANSACTION COUNT', fitbounds='locations',\n",
    "                              height =650 , width =600)\n",
    "    \n",
    "    fig_india_2.update_geos(visible=False)\n",
    "    fig_india_2.show()\n",
    "\n",
    "    return tacy\n"
   ]
  },
  {
   "cell_type": "code",
   "execution_count": 8,
   "metadata": {},
   "outputs": [],
   "source": [
    "#Transaction_type\n",
    "def Aggre_Tran_Transaction_type(df,state):\n",
    "    tacy = df[df['States'] == state]\n",
    "    tacy.reset_index(drop=True,inplace=True)\n",
    "\n",
    "    tacyg = tacy.groupby('Transaction_type')[['Transaction_count','Transaction_amount']].sum()\n",
    "    tacyg.reset_index(inplace=True)\n",
    "\n",
    "    fig_pie_1 =px.pie(data_frame= tacyg, names='Transaction_type',values='Transaction_amount',\n",
    "                    width = 600, title=f'{state.upper()} TRANSACTION AMOUNT', hole =0.5)\n",
    "\n",
    "    fig_pie_1.show()\n",
    "\n",
    "    fig_pie_2 =px.pie(data_frame= tacyg, names='Transaction_type',values='Transaction_count',\n",
    "                    width = 600, title=f'{state.upper()} TRANSACTION COUNT', hole =0.5)\n",
    "\n",
    "    fig_pie_2.show()"
   ]
  },
  {
   "cell_type": "code",
   "execution_count": 9,
   "metadata": {},
   "outputs": [],
   "source": [
    "#Aggre_User_Analysis1\n",
    "def Aggre_user_plot_1(df,year):\n",
    "    aguy=df[df['Years']== year]\n",
    "    aguy.reset_index(drop=True,inplace=True)\n",
    "\n",
    "    aguyg =pd.DataFrame(aguy.groupby('Brands')[['Transaction_count','Percentage']].sum())\n",
    "    aguyg.reset_index(inplace=True)\n",
    "\n",
    "    fig_bar_1 = px.bar(aguyg, x='Brands',y ='Transaction_count',title=f'{year} BRANDS AND TRANSACTION COUNT',\n",
    "                    width= 1000, color_discrete_sequence= px.colors.sequential.haline_r,hover_name='Brands')\n",
    "    fig_bar_1.show()\n",
    "\n",
    "\n",
    "    return aguy"
   ]
  },
  {
   "cell_type": "code",
   "execution_count": 10,
   "metadata": {},
   "outputs": [],
   "source": [
    "# Aggree User Analysis 2 \n",
    "def Aggre_user_plot_2(df,quarter):\n",
    "    aguyq=df[df['Quarter']== quarter]\n",
    "    aguyq.reset_index(drop=True,inplace=True)\n",
    "\n",
    "    aguyqg = pd.DataFrame(aguyq.groupby('Brands')['Transaction_count'].sum())\n",
    "    aguyqg.reset_index(inplace=True)\n",
    "\n",
    "    fig_bar_2 = px.bar(aguyqg, x='Brands',y ='Transaction_count',title=f'{quarter} QUARTER, BRANDS AND TRANSACTION COUNT',\n",
    "                    width= 1000, color_discrete_sequence= px.colors.sequential.haline_r,hover_name='Brands')\n",
    "    fig_bar_2.show()\n",
    "\n",
    "    return aguyq"
   ]
  },
  {
   "cell_type": "code",
   "execution_count": 11,
   "metadata": {},
   "outputs": [],
   "source": [
    "#Aggre_user_analysis_3\n",
    "def Aggre_user_plot_3(df,state):\n",
    "    auyqs = df[df['States'] == state]\n",
    "    auyqs.reset_index(drop=True, inplace=True)\n",
    "\n",
    "    fig_line_1 = px.line(auyqs, x='Brands', y ='Transaction_count',hover_data='Percentage',\n",
    "                        title= f'{state.upper()} BRANDS , TRANSACTION COUNT , PERCENTAGE',width = 1000, markers = True)\n",
    "    fig_line_1.show()"
   ]
  },
  {
   "cell_type": "code",
   "execution_count": 12,
   "metadata": {},
   "outputs": [],
   "source": [
    "#Map_insurance_District\n",
    "def Map_insur_District(df,state):\n",
    "    tacy = df[df['States'] == state]\n",
    "    tacy.reset_index(drop=True,inplace=True)\n",
    "\n",
    "    tacyg = tacy.groupby('Districts')[['Transaction_count','Transaction_amount']].sum()\n",
    "    tacyg.reset_index(inplace=True)\n",
    "\n",
    "    fig_bar_1 =px.bar(tacyg, x='Transaction_amount', y='Districts',orientation='h',\n",
    "                     title=f'{state.upper()} DISTRICT AND TRANSACTION AMOUNT', color_discrete_sequence=px.colors.sequential.Mint_r)\n",
    "    fig_bar_1.show()\n",
    "\n",
    "    fig_bar_2 =px.bar(tacyg, x='Transaction_count', y='Districts',orientation='h',\n",
    "                     title=f'{state.upper()} DISTRICT AND TRANSACTION COUNT', color_discrete_sequence=px.colors.sequential.Bluered_r)\n",
    "    fig_bar_2.show()"
   ]
  },
  {
   "cell_type": "code",
   "execution_count": 13,
   "metadata": {},
   "outputs": [],
   "source": [
    "#map_user_plot_1\n",
    "def map_user_plot_1(df,year):\n",
    "    muy=df[df['Years']== year]\n",
    "    muy.reset_index(drop=True,inplace=True)\n",
    "\n",
    "    muyg =muy.groupby('States')[['RegisteredUsers','AppOpens']].sum()\n",
    "    muyg.reset_index(inplace=True)\n",
    "\n",
    "    fig_line_1 = px.line(muyg, x='States', y =['RegisteredUsers','AppOpens'],\n",
    "                        title=f'{df['Years'].min()} YEAR {year} REGISTERED USERS, APPOPENS',width = 1000, height=800,markers = True)\n",
    "    fig_line_1.show()\n",
    "\n",
    "    return muy"
   ]
  },
  {
   "cell_type": "code",
   "execution_count": 14,
   "metadata": {},
   "outputs": [],
   "source": [
    "#map_user_plot_2\n",
    "def map_user_plot_2(df,quarter):\n",
    "    muyq=df[df['Quarter']== quarter]\n",
    "    muyq.reset_index(drop=True,inplace=True)\n",
    "\n",
    "    muyqg =muyq.groupby('States')[['RegisteredUsers','AppOpens']].sum()\n",
    "    muyqg.reset_index(inplace=True)\n",
    "\n",
    "    fig_line_2 = px.line(muyqg, x='States', y =['RegisteredUsers','AppOpens'],\n",
    "                        title=f'{df['Years'].min()} YEAR {quarter} QUARTER REGISTERED USERS, APPOPENS',width = 1000, height=800,markers = True,\n",
    "                        color_discrete_sequence=px.colors.sequential.Rainbow_r)\n",
    "    fig_line_2.show()\n",
    "\n",
    "    return muyq"
   ]
  },
  {
   "cell_type": "code",
   "execution_count": 15,
   "metadata": {},
   "outputs": [],
   "source": [
    "#map_user_plot_3\n",
    "def map_user_plot_3(df,states):\n",
    "    muyqs=df[df['States']== states]\n",
    "    muyqs.reset_index(drop=True,inplace=True)\n",
    "\n",
    "    fig_map_user_bar_1=px.bar(muyqs, x= 'RegisteredUsers', y = 'Districts', orientation='h',\n",
    "                            title='REGISTERED USER',height=800,color_discrete_sequence=px.colors.sequential.Rainbow_r)\n",
    "    fig_map_user_bar_1.show()\n",
    "\n",
    "    fig_map_user_bar_2=px.bar(muyqs, x= 'AppOpens', y = 'Districts', orientation='h',\n",
    "                            title='APPOPENS',height=800,color_discrete_sequence=px.colors.sequential.Rainbow)\n",
    "    fig_map_user_bar_2.show()"
   ]
  },
  {
   "cell_type": "code",
   "execution_count": 16,
   "metadata": {},
   "outputs": [],
   "source": [
    "#Top_insurance_plot_1\n",
    "def Top_insurance_plot_1(df,state):\n",
    "    tiy=df[df['States']== state]\n",
    "    tiy.reset_index(drop=True,inplace=True)\n",
    "\n",
    "\n",
    "    fig_top_insur_bar_1=px.bar(tiy, x= 'Quarter', y = 'Transaction_amount',\n",
    "                            title='TRANSACTION AMOUNT',height=650,width=600,color_discrete_sequence=px.colors.sequential.GnBu_r)\n",
    "    fig_top_insur_bar_1.show()\n",
    "\n",
    "    fig_top_insur_bar_2=px.bar(tiy, x= 'Quarter', y = 'Transaction_count',\n",
    "                        title='TRANSACTION COUNT',height=650,width=600,color_discrete_sequence=px.colors.sequential.Agsunset_r)\n",
    "    fig_top_insur_bar_2.show()"
   ]
  },
  {
   "cell_type": "code",
   "execution_count": null,
   "metadata": {},
   "outputs": [],
   "source": [
    "#Top_user_plot_1\n",
    "def top_user_plot_1(df,year):\n",
    "    tuy=df[df['Years']== year]\n",
    "    tuy.reset_index(drop=True,inplace=True)\n",
    "\n",
    "    tuyg =pd.DataFrame(tuy.groupby(['States','Quarter'])['RegisteredUsers'].sum())\n",
    "    tuyg.reset_index(inplace=True)\n",
    "    \n",
    "\n",
    "    fig_top_plot_1=px.bar(tuyg,x='States',y='RegisteredUsers',color='Quarter',width=1000, height=800,\n",
    "                        color_discrete_sequence=px.colors.sequential.Burgyl,hover_name='States',\n",
    "                        title=f'{year} REGISTERED USERS')\n",
    "    fig_top_plot_1.show()\n",
    "\n",
    "    return tuy"
   ]
  },
  {
   "cell_type": "code",
   "execution_count": 72,
   "metadata": {},
   "outputs": [],
   "source": [
    "#top_user_plot_2\n",
    "def top_user_plot_2(df,state):\n",
    "    tuys=df[df['States']== state]\n",
    "    tuys.reset_index(drop=True,inplace=True)\n",
    "\n",
    "    fig_top_plot_2=px.bar(tuys,x='Quarter',y='RegisteredUsers',title='REGISTEREDUSERS PINCODES QUARTER',\n",
    "                        width=1000,height=800,color='RegisteredUsers',hover_data='Pincodes',\n",
    "                        color_continuous_scale=px.colors.sequential.Magenta)\n",
    "    fig_top_plot_2.show()"
   ]
  },
  {
   "cell_type": "markdown",
   "metadata": {},
   "source": [
    "## Aggregated Insurance "
   ]
  },
  {
   "cell_type": "code",
   "execution_count": null,
   "metadata": {},
   "outputs": [],
   "source": [
    "tac_Y=Transaction_amount_count_Y(Aggre_insurance, 2023)"
   ]
  },
  {
   "cell_type": "code",
   "execution_count": null,
   "metadata": {},
   "outputs": [],
   "source": [
    "Transaction_amount_count_Y_Q(tac_Y,2)"
   ]
  },
  {
   "cell_type": "markdown",
   "metadata": {},
   "source": [
    "## Aggregated Transaction "
   ]
  },
  {
   "cell_type": "code",
   "execution_count": null,
   "metadata": {},
   "outputs": [],
   "source": [
    "Aggre_tran_tac_Y = Transaction_amount_count_Y(Aggre_transaction, 2023)"
   ]
  },
  {
   "cell_type": "code",
   "execution_count": null,
   "metadata": {},
   "outputs": [],
   "source": [
    "Aggre_tran_tac_Y_Q = Transaction_amount_count_Y_Q(Aggre_tran_tac_Y, 3)"
   ]
  },
  {
   "cell_type": "code",
   "execution_count": null,
   "metadata": {},
   "outputs": [],
   "source": [
    "Aggre_Tran_Transaction_type(Aggre_tran_tac_Y,'Maharashtra')"
   ]
  },
  {
   "cell_type": "markdown",
   "metadata": {},
   "source": [
    "## Aggre User"
   ]
  },
  {
   "cell_type": "code",
   "execution_count": null,
   "metadata": {},
   "outputs": [],
   "source": [
    "Aggre_user_Y = Aggre_user_plot_1(Aggre_user,2020)"
   ]
  },
  {
   "cell_type": "code",
   "execution_count": null,
   "metadata": {},
   "outputs": [],
   "source": [
    "Aggre_user_Y_Q = Aggre_user_plot_2(Aggre_user_Y,3)"
   ]
  },
  {
   "cell_type": "code",
   "execution_count": 24,
   "metadata": {},
   "outputs": [],
   "source": [
    "#Aggre_user_analysis_3\n",
    "def Aggre_user_plot_3(df,state):\n",
    "    auyqs = df[df['States'] == state]\n",
    "    auyqs.reset_index(drop=True, inplace=True)\n",
    "\n",
    "    fig_line_1 = px.line(auyqs, x='Brands', y ='Transaction_count',hover_data='Percentage',\n",
    "                        title= 'BRANDS , TRANSACTION COUNT , PERCENTAGE',width = 1000, markers = True)\n",
    "    fig_line_1.show()"
   ]
  },
  {
   "cell_type": "code",
   "execution_count": null,
   "metadata": {},
   "outputs": [],
   "source": [
    "Aggre_user_plot_3(Aggre_user_Y_Q,'Maharashtra')"
   ]
  },
  {
   "cell_type": "markdown",
   "metadata": {},
   "source": [
    "## Map Insurance "
   ]
  },
  {
   "cell_type": "code",
   "execution_count": null,
   "metadata": {},
   "outputs": [],
   "source": [
    "Map_insur_tac_Y = Transaction_amount_count_Y(Map_Insurance, 2023)"
   ]
  },
  {
   "cell_type": "code",
   "execution_count": null,
   "metadata": {},
   "outputs": [],
   "source": [
    "Map_insur_District(Map_insur_tac_Y,'West Bengal')"
   ]
  },
  {
   "cell_type": "code",
   "execution_count": null,
   "metadata": {},
   "outputs": [],
   "source": [
    "Map_insur_tac_Y_Q = Transaction_amount_count_Y_Q(Map_insur_tac_Y, 3)"
   ]
  },
  {
   "cell_type": "code",
   "execution_count": null,
   "metadata": {},
   "outputs": [],
   "source": [
    "Map_insur_District(Map_insur_tac_Y_Q,'Maharashtra')"
   ]
  },
  {
   "cell_type": "markdown",
   "metadata": {},
   "source": [
    "## Map Transaction "
   ]
  },
  {
   "cell_type": "code",
   "execution_count": null,
   "metadata": {},
   "outputs": [],
   "source": [
    "Map_tran_tac_Y = Transaction_amount_count_Y(Map_transaction, 2023)"
   ]
  },
  {
   "cell_type": "code",
   "execution_count": null,
   "metadata": {},
   "outputs": [],
   "source": [
    "Map_transaction"
   ]
  },
  {
   "cell_type": "markdown",
   "metadata": {},
   "source": [
    "## Map User"
   ]
  },
  {
   "cell_type": "code",
   "execution_count": null,
   "metadata": {},
   "outputs": [],
   "source": [
    "Map_user_Y= map_user_plot_1(Map_user,2023)"
   ]
  },
  {
   "cell_type": "code",
   "execution_count": null,
   "metadata": {},
   "outputs": [],
   "source": [
    "Map_user_Y_Q=map_user_plot_2(Map_user_Y,2)"
   ]
  },
  {
   "cell_type": "code",
   "execution_count": null,
   "metadata": {},
   "outputs": [],
   "source": [
    "map_user_plot_3(Map_user_Y_Q,'Maharashta')"
   ]
  },
  {
   "cell_type": "markdown",
   "metadata": {},
   "source": [
    "## Top Insurance"
   ]
  },
  {
   "cell_type": "code",
   "execution_count": null,
   "metadata": {},
   "outputs": [],
   "source": [
    "Top_Insurance"
   ]
  },
  {
   "cell_type": "code",
   "execution_count": null,
   "metadata": {},
   "outputs": [],
   "source": [
    "Top_insur_tac_Y = Transaction_amount_count_Y(Top_Insurance, 2023)"
   ]
  },
  {
   "cell_type": "code",
   "execution_count": null,
   "metadata": {},
   "outputs": [],
   "source": [
    "Top_insur_tac_Y_Q = Transaction_amount_count_Y_Q(Top_insur_tac_Y , 3)"
   ]
  },
  {
   "cell_type": "code",
   "execution_count": null,
   "metadata": {},
   "outputs": [],
   "source": [
    "Top_insurance_plot_1(Top_insur_tac_Y,'Maharashtra')"
   ]
  },
  {
   "cell_type": "markdown",
   "metadata": {},
   "source": [
    "## Top Transaction "
   ]
  },
  {
   "cell_type": "code",
   "execution_count": 35,
   "metadata": {},
   "outputs": [
    {
     "data": {
      "text/html": [
       "<div>\n",
       "<style scoped>\n",
       "    .dataframe tbody tr th:only-of-type {\n",
       "        vertical-align: middle;\n",
       "    }\n",
       "\n",
       "    .dataframe tbody tr th {\n",
       "        vertical-align: top;\n",
       "    }\n",
       "\n",
       "    .dataframe thead th {\n",
       "        text-align: right;\n",
       "    }\n",
       "</style>\n",
       "<table border=\"1\" class=\"dataframe\">\n",
       "  <thead>\n",
       "    <tr style=\"text-align: right;\">\n",
       "      <th></th>\n",
       "      <th>States</th>\n",
       "      <th>Years</th>\n",
       "      <th>Quarter</th>\n",
       "      <th>Pincodes</th>\n",
       "      <th>Transaction_count</th>\n",
       "      <th>Transaction_amount</th>\n",
       "    </tr>\n",
       "  </thead>\n",
       "  <tbody>\n",
       "    <tr>\n",
       "      <th>0</th>\n",
       "      <td>Andaman And Nicobar</td>\n",
       "      <td>2018</td>\n",
       "      <td>1</td>\n",
       "      <td>744101</td>\n",
       "      <td>1622</td>\n",
       "      <td>2769298</td>\n",
       "    </tr>\n",
       "    <tr>\n",
       "      <th>1</th>\n",
       "      <td>Andaman And Nicobar</td>\n",
       "      <td>2018</td>\n",
       "      <td>1</td>\n",
       "      <td>744103</td>\n",
       "      <td>1223</td>\n",
       "      <td>2238042</td>\n",
       "    </tr>\n",
       "    <tr>\n",
       "      <th>2</th>\n",
       "      <td>Andaman And Nicobar</td>\n",
       "      <td>2018</td>\n",
       "      <td>1</td>\n",
       "      <td>744102</td>\n",
       "      <td>969</td>\n",
       "      <td>3519060</td>\n",
       "    </tr>\n",
       "    <tr>\n",
       "      <th>3</th>\n",
       "      <td>Andaman And Nicobar</td>\n",
       "      <td>2018</td>\n",
       "      <td>1</td>\n",
       "      <td>744105</td>\n",
       "      <td>685</td>\n",
       "      <td>1298561</td>\n",
       "    </tr>\n",
       "    <tr>\n",
       "      <th>4</th>\n",
       "      <td>Andaman And Nicobar</td>\n",
       "      <td>2018</td>\n",
       "      <td>1</td>\n",
       "      <td>744104</td>\n",
       "      <td>340</td>\n",
       "      <td>1039715</td>\n",
       "    </tr>\n",
       "    <tr>\n",
       "      <th>...</th>\n",
       "      <td>...</td>\n",
       "      <td>...</td>\n",
       "      <td>...</td>\n",
       "      <td>...</td>\n",
       "      <td>...</td>\n",
       "      <td>...</td>\n",
       "    </tr>\n",
       "    <tr>\n",
       "      <th>8562</th>\n",
       "      <td>West Bengal</td>\n",
       "      <td>2023</td>\n",
       "      <td>4</td>\n",
       "      <td>721301</td>\n",
       "      <td>4133775</td>\n",
       "      <td>5718222071</td>\n",
       "    </tr>\n",
       "    <tr>\n",
       "      <th>8563</th>\n",
       "      <td>West Bengal</td>\n",
       "      <td>2023</td>\n",
       "      <td>4</td>\n",
       "      <td>700001</td>\n",
       "      <td>3983241</td>\n",
       "      <td>8039688940</td>\n",
       "    </tr>\n",
       "    <tr>\n",
       "      <th>8564</th>\n",
       "      <td>West Bengal</td>\n",
       "      <td>2023</td>\n",
       "      <td>4</td>\n",
       "      <td>732125</td>\n",
       "      <td>3950411</td>\n",
       "      <td>6557344712</td>\n",
       "    </tr>\n",
       "    <tr>\n",
       "      <th>8565</th>\n",
       "      <td>West Bengal</td>\n",
       "      <td>2023</td>\n",
       "      <td>4</td>\n",
       "      <td>700039</td>\n",
       "      <td>3742452</td>\n",
       "      <td>5608622243</td>\n",
       "    </tr>\n",
       "    <tr>\n",
       "      <th>8566</th>\n",
       "      <td>West Bengal</td>\n",
       "      <td>2023</td>\n",
       "      <td>4</td>\n",
       "      <td>700014</td>\n",
       "      <td>3652710</td>\n",
       "      <td>6184795262</td>\n",
       "    </tr>\n",
       "  </tbody>\n",
       "</table>\n",
       "<p>8567 rows × 6 columns</p>\n",
       "</div>"
      ],
      "text/plain": [
       "                   States  Years  Quarter Pincodes  Transaction_count  \\\n",
       "0     Andaman And Nicobar   2018        1   744101               1622   \n",
       "1     Andaman And Nicobar   2018        1   744103               1223   \n",
       "2     Andaman And Nicobar   2018        1   744102                969   \n",
       "3     Andaman And Nicobar   2018        1   744105                685   \n",
       "4     Andaman And Nicobar   2018        1   744104                340   \n",
       "...                   ...    ...      ...      ...                ...   \n",
       "8562          West Bengal   2023        4   721301            4133775   \n",
       "8563          West Bengal   2023        4   700001            3983241   \n",
       "8564          West Bengal   2023        4   732125            3950411   \n",
       "8565          West Bengal   2023        4   700039            3742452   \n",
       "8566          West Bengal   2023        4   700014            3652710   \n",
       "\n",
       "      Transaction_amount  \n",
       "0                2769298  \n",
       "1                2238042  \n",
       "2                3519060  \n",
       "3                1298561  \n",
       "4                1039715  \n",
       "...                  ...  \n",
       "8562          5718222071  \n",
       "8563          8039688940  \n",
       "8564          6557344712  \n",
       "8565          5608622243  \n",
       "8566          6184795262  \n",
       "\n",
       "[8567 rows x 6 columns]"
      ]
     },
     "execution_count": 35,
     "metadata": {},
     "output_type": "execute_result"
    }
   ],
   "source": [
    "Top_Transaction"
   ]
  },
  {
   "cell_type": "code",
   "execution_count": null,
   "metadata": {},
   "outputs": [],
   "source": [
    "Top_tran_tac_Y = Transaction_amount_count_Y(Top_Transaction, 2023)"
   ]
  },
  {
   "cell_type": "code",
   "execution_count": null,
   "metadata": {},
   "outputs": [],
   "source": [
    "Top_insurance_plot_1(Top_tran_tac_Y,'Maharashtra')"
   ]
  },
  {
   "cell_type": "code",
   "execution_count": null,
   "metadata": {},
   "outputs": [],
   "source": [
    "Top_tran_tac_Y_Q = Transaction_amount_count_Y_Q(Top_tran_tac_Y , 3)"
   ]
  },
  {
   "cell_type": "markdown",
   "metadata": {},
   "source": [
    "## Top User "
   ]
  },
  {
   "cell_type": "code",
   "execution_count": null,
   "metadata": {},
   "outputs": [],
   "source": [
    "Top_user_Y=top_user_plot_1(Top_User,2021)"
   ]
  },
  {
   "cell_type": "code",
   "execution_count": null,
   "metadata": {},
   "outputs": [],
   "source": [
    "top_user_plot_2(Top_user_Y,'West Bengal')"
   ]
  },
  {
   "cell_type": "code",
   "execution_count": 66,
   "metadata": {},
   "outputs": [
    {
     "data": {
      "text/html": [
       "<div>\n",
       "<style scoped>\n",
       "    .dataframe tbody tr th:only-of-type {\n",
       "        vertical-align: middle;\n",
       "    }\n",
       "\n",
       "    .dataframe tbody tr th {\n",
       "        vertical-align: top;\n",
       "    }\n",
       "\n",
       "    .dataframe thead th {\n",
       "        text-align: right;\n",
       "    }\n",
       "</style>\n",
       "<table border=\"1\" class=\"dataframe\">\n",
       "  <thead>\n",
       "    <tr style=\"text-align: right;\">\n",
       "      <th></th>\n",
       "      <th>States</th>\n",
       "      <th>Years</th>\n",
       "      <th>Quarter</th>\n",
       "      <th>Pincodes</th>\n",
       "      <th>RegisteredUsers</th>\n",
       "    </tr>\n",
       "  </thead>\n",
       "  <tbody>\n",
       "    <tr>\n",
       "      <th>0</th>\n",
       "      <td>Andaman And Nicobar</td>\n",
       "      <td>2021</td>\n",
       "      <td>1</td>\n",
       "      <td>744103</td>\n",
       "      <td>11416</td>\n",
       "    </tr>\n",
       "    <tr>\n",
       "      <th>1</th>\n",
       "      <td>Andaman And Nicobar</td>\n",
       "      <td>2021</td>\n",
       "      <td>1</td>\n",
       "      <td>744105</td>\n",
       "      <td>9934</td>\n",
       "    </tr>\n",
       "    <tr>\n",
       "      <th>2</th>\n",
       "      <td>Andaman And Nicobar</td>\n",
       "      <td>2021</td>\n",
       "      <td>1</td>\n",
       "      <td>744101</td>\n",
       "      <td>9457</td>\n",
       "    </tr>\n",
       "    <tr>\n",
       "      <th>3</th>\n",
       "      <td>Andaman And Nicobar</td>\n",
       "      <td>2021</td>\n",
       "      <td>1</td>\n",
       "      <td>744102</td>\n",
       "      <td>6395</td>\n",
       "    </tr>\n",
       "    <tr>\n",
       "      <th>4</th>\n",
       "      <td>Andaman And Nicobar</td>\n",
       "      <td>2021</td>\n",
       "      <td>1</td>\n",
       "      <td>744202</td>\n",
       "      <td>3005</td>\n",
       "    </tr>\n",
       "    <tr>\n",
       "      <th>...</th>\n",
       "      <td>...</td>\n",
       "      <td>...</td>\n",
       "      <td>...</td>\n",
       "      <td>...</td>\n",
       "      <td>...</td>\n",
       "    </tr>\n",
       "    <tr>\n",
       "      <th>1423</th>\n",
       "      <td>West Bengal</td>\n",
       "      <td>2021</td>\n",
       "      <td>4</td>\n",
       "      <td>700015</td>\n",
       "      <td>88070</td>\n",
       "    </tr>\n",
       "    <tr>\n",
       "      <th>1424</th>\n",
       "      <td>West Bengal</td>\n",
       "      <td>2021</td>\n",
       "      <td>4</td>\n",
       "      <td>742304</td>\n",
       "      <td>86045</td>\n",
       "    </tr>\n",
       "    <tr>\n",
       "      <th>1425</th>\n",
       "      <td>West Bengal</td>\n",
       "      <td>2021</td>\n",
       "      <td>4</td>\n",
       "      <td>721101</td>\n",
       "      <td>85333</td>\n",
       "    </tr>\n",
       "    <tr>\n",
       "      <th>1426</th>\n",
       "      <td>West Bengal</td>\n",
       "      <td>2021</td>\n",
       "      <td>4</td>\n",
       "      <td>700091</td>\n",
       "      <td>83634</td>\n",
       "    </tr>\n",
       "    <tr>\n",
       "      <th>1427</th>\n",
       "      <td>West Bengal</td>\n",
       "      <td>2021</td>\n",
       "      <td>4</td>\n",
       "      <td>700150</td>\n",
       "      <td>82669</td>\n",
       "    </tr>\n",
       "  </tbody>\n",
       "</table>\n",
       "<p>1428 rows × 5 columns</p>\n",
       "</div>"
      ],
      "text/plain": [
       "                   States  Years  Quarter Pincodes  RegisteredUsers\n",
       "0     Andaman And Nicobar   2021        1   744103            11416\n",
       "1     Andaman And Nicobar   2021        1   744105             9934\n",
       "2     Andaman And Nicobar   2021        1   744101             9457\n",
       "3     Andaman And Nicobar   2021        1   744102             6395\n",
       "4     Andaman And Nicobar   2021        1   744202             3005\n",
       "...                   ...    ...      ...      ...              ...\n",
       "1423          West Bengal   2021        4   700015            88070\n",
       "1424          West Bengal   2021        4   742304            86045\n",
       "1425          West Bengal   2021        4   721101            85333\n",
       "1426          West Bengal   2021        4   700091            83634\n",
       "1427          West Bengal   2021        4   700150            82669\n",
       "\n",
       "[1428 rows x 5 columns]"
      ]
     },
     "execution_count": 66,
     "metadata": {},
     "output_type": "execute_result"
    }
   ],
   "source": [
    "Top_user_Y"
   ]
  },
  {
   "cell_type": "code",
   "execution_count": null,
   "metadata": {},
   "outputs": [],
   "source": []
  }
 ],
 "metadata": {
  "kernelspec": {
   "display_name": ".venv",
   "language": "python",
   "name": "python3"
  },
  "language_info": {
   "codemirror_mode": {
    "name": "ipython",
    "version": 3
   },
   "file_extension": ".py",
   "mimetype": "text/x-python",
   "name": "python",
   "nbconvert_exporter": "python",
   "pygments_lexer": "ipython3",
   "version": "3.12.1"
  }
 },
 "nbformat": 4,
 "nbformat_minor": 2
}
